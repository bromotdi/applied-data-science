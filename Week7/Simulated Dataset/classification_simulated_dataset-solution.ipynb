{
 "cells": [
  {
   "cell_type": "markdown",
   "metadata": {
    "colab_type": "text",
    "id": "j8RJepPz0zgp"
   },
   "source": [
    "# Classification of a simulated dataset\n",
    "In this exercise, you'll analyze and evaluate a made-up dataset, created using Scikit-Learn's `make_classification` function. The function allows you to play with different parameters yourself, to get a feel for their effect on model performance.\n",
    "\n",
    "The function accepts as parameters the number of samples, number of features, the number of informative features and the number of redundant features (that are highly correlated with other features, and thus carry no real information)."
   ]
  },
  {
   "cell_type": "markdown",
   "metadata": {
    "colab_type": "text",
    "id": "wgwvv9t50zgq"
   },
   "source": [
    "Import relevant packages."
   ]
  },
  {
   "cell_type": "code",
   "execution_count": 0,
   "metadata": {
    "colab": {},
    "colab_type": "code",
    "id": "iaNrSE5d0zgr"
   },
   "outputs": [],
   "source": [
    "import pandas as pd\n",
    "import numpy as np\n",
    "import matplotlib.pyplot as plt\n",
    "import seaborn as sns\n",
    "%matplotlib inline"
   ]
  },
  {
   "cell_type": "markdown",
   "metadata": {
    "colab_type": "text",
    "id": "Nm4lQPQ_0zgv"
   },
   "source": [
    "Generate artificial data:"
   ]
  },
  {
   "cell_type": "code",
   "execution_count": 0,
   "metadata": {
    "colab": {},
    "colab_type": "code",
    "id": "QEuCWVE50zgv"
   },
   "outputs": [],
   "source": [
    "# Load data\n",
    "from sklearn import datasets\n",
    "X, y = datasets.make_classification(n_samples=10000, n_features=20,\n",
    "                                    n_informative=2, n_redundant=2, random_state=0)\n",
    "X = pd.DataFrame(X)"
   ]
  },
  {
   "cell_type": "code",
   "execution_count": 0,
   "metadata": {
    "colab": {},
    "colab_type": "code",
    "id": "jMztweWD0zgy",
    "outputId": "007a7984-b9ce-494d-831a-5c3e57b2095f"
   },
   "outputs": [
    {
     "data": {
      "text/html": [
       "<div>\n",
       "<style scoped>\n",
       "    .dataframe tbody tr th:only-of-type {\n",
       "        vertical-align: middle;\n",
       "    }\n",
       "\n",
       "    .dataframe tbody tr th {\n",
       "        vertical-align: top;\n",
       "    }\n",
       "\n",
       "    .dataframe thead th {\n",
       "        text-align: right;\n",
       "    }\n",
       "</style>\n",
       "<table border=\"1\" class=\"dataframe\">\n",
       "  <thead>\n",
       "    <tr style=\"text-align: right;\">\n",
       "      <th></th>\n",
       "      <th>0</th>\n",
       "      <th>1</th>\n",
       "      <th>2</th>\n",
       "      <th>3</th>\n",
       "      <th>4</th>\n",
       "      <th>5</th>\n",
       "      <th>6</th>\n",
       "      <th>7</th>\n",
       "      <th>8</th>\n",
       "      <th>9</th>\n",
       "      <th>10</th>\n",
       "      <th>11</th>\n",
       "      <th>12</th>\n",
       "      <th>13</th>\n",
       "      <th>14</th>\n",
       "      <th>15</th>\n",
       "      <th>16</th>\n",
       "      <th>17</th>\n",
       "      <th>18</th>\n",
       "      <th>19</th>\n",
       "    </tr>\n",
       "  </thead>\n",
       "  <tbody>\n",
       "    <tr>\n",
       "      <th>0</th>\n",
       "      <td>0.830360</td>\n",
       "      <td>-0.330252</td>\n",
       "      <td>-0.230543</td>\n",
       "      <td>-0.461911</td>\n",
       "      <td>0.423043</td>\n",
       "      <td>1.198150</td>\n",
       "      <td>-0.598511</td>\n",
       "      <td>0.560084</td>\n",
       "      <td>1.172555</td>\n",
       "      <td>0.456654</td>\n",
       "      <td>-0.085175</td>\n",
       "      <td>0.120845</td>\n",
       "      <td>-0.514348</td>\n",
       "      <td>0.028474</td>\n",
       "      <td>1.432700</td>\n",
       "      <td>-0.667728</td>\n",
       "      <td>0.308132</td>\n",
       "      <td>-1.029791</td>\n",
       "      <td>1.733867</td>\n",
       "      <td>-0.599297</td>\n",
       "    </tr>\n",
       "    <tr>\n",
       "      <th>1</th>\n",
       "      <td>-0.043999</td>\n",
       "      <td>0.220658</td>\n",
       "      <td>1.600519</td>\n",
       "      <td>0.116929</td>\n",
       "      <td>0.390064</td>\n",
       "      <td>-1.421096</td>\n",
       "      <td>-0.633978</td>\n",
       "      <td>-0.184462</td>\n",
       "      <td>1.015490</td>\n",
       "      <td>1.941363</td>\n",
       "      <td>0.273527</td>\n",
       "      <td>1.762630</td>\n",
       "      <td>1.380094</td>\n",
       "      <td>-0.920554</td>\n",
       "      <td>0.209441</td>\n",
       "      <td>-0.564106</td>\n",
       "      <td>0.012611</td>\n",
       "      <td>-1.107534</td>\n",
       "      <td>2.005912</td>\n",
       "      <td>-0.566364</td>\n",
       "    </tr>\n",
       "    <tr>\n",
       "      <th>2</th>\n",
       "      <td>0.626718</td>\n",
       "      <td>2.100425</td>\n",
       "      <td>-0.965798</td>\n",
       "      <td>-0.128874</td>\n",
       "      <td>0.479240</td>\n",
       "      <td>2.158692</td>\n",
       "      <td>-0.660023</td>\n",
       "      <td>0.109196</td>\n",
       "      <td>0.619129</td>\n",
       "      <td>-0.316668</td>\n",
       "      <td>0.809642</td>\n",
       "      <td>-0.449486</td>\n",
       "      <td>-1.014526</td>\n",
       "      <td>1.222137</td>\n",
       "      <td>-0.817552</td>\n",
       "      <td>0.691953</td>\n",
       "      <td>-1.264811</td>\n",
       "      <td>-1.039763</td>\n",
       "      <td>0.941284</td>\n",
       "      <td>-1.053385</td>\n",
       "    </tr>\n",
       "    <tr>\n",
       "      <th>3</th>\n",
       "      <td>0.618236</td>\n",
       "      <td>-2.050204</td>\n",
       "      <td>0.197231</td>\n",
       "      <td>-1.349391</td>\n",
       "      <td>0.787622</td>\n",
       "      <td>-2.372554</td>\n",
       "      <td>-0.453772</td>\n",
       "      <td>-0.307125</td>\n",
       "      <td>1.386982</td>\n",
       "      <td>-0.872126</td>\n",
       "      <td>1.484745</td>\n",
       "      <td>-0.588555</td>\n",
       "      <td>0.866822</td>\n",
       "      <td>-1.746444</td>\n",
       "      <td>0.126735</td>\n",
       "      <td>0.473620</td>\n",
       "      <td>-0.425105</td>\n",
       "      <td>-0.679803</td>\n",
       "      <td>0.292287</td>\n",
       "      <td>-0.867680</td>\n",
       "    </tr>\n",
       "    <tr>\n",
       "      <th>4</th>\n",
       "      <td>1.432372</td>\n",
       "      <td>0.357851</td>\n",
       "      <td>0.439499</td>\n",
       "      <td>-0.748692</td>\n",
       "      <td>-0.941226</td>\n",
       "      <td>-0.395514</td>\n",
       "      <td>-0.256896</td>\n",
       "      <td>0.272549</td>\n",
       "      <td>-1.281665</td>\n",
       "      <td>1.235855</td>\n",
       "      <td>0.462032</td>\n",
       "      <td>0.163820</td>\n",
       "      <td>-0.992406</td>\n",
       "      <td>0.635776</td>\n",
       "      <td>-0.432270</td>\n",
       "      <td>-2.038404</td>\n",
       "      <td>-0.411067</td>\n",
       "      <td>-0.404224</td>\n",
       "      <td>0.361559</td>\n",
       "      <td>-0.411946</td>\n",
       "    </tr>\n",
       "  </tbody>\n",
       "</table>\n",
       "</div>"
      ],
      "text/plain": [
       "          0         1         2         3         4         5         6  \\\n",
       "0  0.830360 -0.330252 -0.230543 -0.461911  0.423043  1.198150 -0.598511   \n",
       "1 -0.043999  0.220658  1.600519  0.116929  0.390064 -1.421096 -0.633978   \n",
       "2  0.626718  2.100425 -0.965798 -0.128874  0.479240  2.158692 -0.660023   \n",
       "3  0.618236 -2.050204  0.197231 -1.349391  0.787622 -2.372554 -0.453772   \n",
       "4  1.432372  0.357851  0.439499 -0.748692 -0.941226 -0.395514 -0.256896   \n",
       "\n",
       "          7         8         9        10        11        12        13  \\\n",
       "0  0.560084  1.172555  0.456654 -0.085175  0.120845 -0.514348  0.028474   \n",
       "1 -0.184462  1.015490  1.941363  0.273527  1.762630  1.380094 -0.920554   \n",
       "2  0.109196  0.619129 -0.316668  0.809642 -0.449486 -1.014526  1.222137   \n",
       "3 -0.307125  1.386982 -0.872126  1.484745 -0.588555  0.866822 -1.746444   \n",
       "4  0.272549 -1.281665  1.235855  0.462032  0.163820 -0.992406  0.635776   \n",
       "\n",
       "         14        15        16        17        18        19  \n",
       "0  1.432700 -0.667728  0.308132 -1.029791  1.733867 -0.599297  \n",
       "1  0.209441 -0.564106  0.012611 -1.107534  2.005912 -0.566364  \n",
       "2 -0.817552  0.691953 -1.264811 -1.039763  0.941284 -1.053385  \n",
       "3  0.126735  0.473620 -0.425105 -0.679803  0.292287 -0.867680  \n",
       "4 -0.432270 -2.038404 -0.411067 -0.404224  0.361559 -0.411946  "
      ]
     },
     "execution_count": 3,
     "metadata": {
      "tags": []
     },
     "output_type": "execute_result"
    }
   ],
   "source": [
    "X.head()"
   ]
  },
  {
   "cell_type": "code",
   "execution_count": 0,
   "metadata": {
    "colab": {},
    "colab_type": "code",
    "id": "uGn9DXnl0zg1",
    "outputId": "1dd340e5-d4a6-4f2e-95b3-44c530a9633c"
   },
   "outputs": [
    {
     "name": "stdout",
     "output_type": "stream",
     "text": [
      "<class 'pandas.core.frame.DataFrame'>\n",
      "RangeIndex: 10000 entries, 0 to 9999\n",
      "Data columns (total 20 columns):\n",
      " #   Column  Non-Null Count  Dtype  \n",
      "---  ------  --------------  -----  \n",
      " 0   0       10000 non-null  float64\n",
      " 1   1       10000 non-null  float64\n",
      " 2   2       10000 non-null  float64\n",
      " 3   3       10000 non-null  float64\n",
      " 4   4       10000 non-null  float64\n",
      " 5   5       10000 non-null  float64\n",
      " 6   6       10000 non-null  float64\n",
      " 7   7       10000 non-null  float64\n",
      " 8   8       10000 non-null  float64\n",
      " 9   9       10000 non-null  float64\n",
      " 10  10      10000 non-null  float64\n",
      " 11  11      10000 non-null  float64\n",
      " 12  12      10000 non-null  float64\n",
      " 13  13      10000 non-null  float64\n",
      " 14  14      10000 non-null  float64\n",
      " 15  15      10000 non-null  float64\n",
      " 16  16      10000 non-null  float64\n",
      " 17  17      10000 non-null  float64\n",
      " 18  18      10000 non-null  float64\n",
      " 19  19      10000 non-null  float64\n",
      "dtypes: float64(20)\n",
      "memory usage: 1.5 MB\n"
     ]
    }
   ],
   "source": [
    "X.info()"
   ]
  },
  {
   "cell_type": "markdown",
   "metadata": {
    "colab_type": "text",
    "id": "qa-n_8FI0zg3"
   },
   "source": [
    "Next, we'll set a few values as missing, and will set others as outliers."
   ]
  },
  {
   "cell_type": "code",
   "execution_count": 0,
   "metadata": {
    "colab": {},
    "colab_type": "code",
    "id": "V7N_LiCV0zg3"
   },
   "outputs": [],
   "source": [
    "proportion_of_missing_values_of_variable = [0]*5 + [0.05]*8 + [0.15]*5 + [0.3]*2\n",
    "for i,proportion in enumerate(proportion_of_missing_values_of_variable):\n",
    "    indices = np.where(np.random.rand(len(X))<proportion)[0]\n",
    "    X.loc[indices,i] = None"
   ]
  },
  {
   "cell_type": "code",
   "execution_count": 0,
   "metadata": {
    "colab": {},
    "colab_type": "code",
    "id": "2KvlqBTd0zg6",
    "outputId": "160effe4-33e3-4a3f-e026-61665b333599"
   },
   "outputs": [
    {
     "data": {
      "text/plain": [
       "5      NaN\n",
       "11     NaN\n",
       "14     NaN\n",
       "17     NaN\n",
       "20     NaN\n",
       "        ..\n",
       "9991   NaN\n",
       "9992   NaN\n",
       "9994   NaN\n",
       "9995   NaN\n",
       "9997   NaN\n",
       "Name: 19, Length: 2964, dtype: float64"
      ]
     },
     "execution_count": 6,
     "metadata": {
      "tags": []
     },
     "output_type": "execute_result"
    }
   ],
   "source": [
    "X.loc[indices,i]"
   ]
  },
  {
   "cell_type": "code",
   "execution_count": 0,
   "metadata": {
    "colab": {},
    "colab_type": "code",
    "id": "UWjlQeAd0zg8",
    "outputId": "1222c385-dee7-496b-a287-26468d3fea10"
   },
   "outputs": [
    {
     "data": {
      "text/plain": [
       "<matplotlib.axes._subplots.AxesSubplot at 0x19623e81588>"
      ]
     },
     "execution_count": 7,
     "metadata": {
      "tags": []
     },
     "output_type": "execute_result"
    },
    {
     "data": {
      "image/png": "[encoded data removed]",
      "text/plain": [
       "<Figure size 432x288 with 2 Axes>"
      ]
     },
     "metadata": {
      "needs_background": "light",
      "tags": []
     },
     "output_type": "display_data"
    }
   ],
   "source": [
    "sns.heatmap(pd.isnull(X).astype(int))"
   ]
  },
  {
   "cell_type": "markdown",
   "metadata": {
    "colab_type": "text",
    "id": "oqRWW_XK0zg-"
   },
   "source": [
    "Examine the generated dataset - its shape, variables type, summary statistics etc.\n",
    "\n",
    "Add new cells to accomodate all the analyses and plots you'd like to make."
   ]
  },
  {
   "cell_type": "code",
   "execution_count": 0,
   "metadata": {
    "colab": {},
    "colab_type": "code",
    "id": "XbSWZyLG0zg_",
    "outputId": "9e0e57d9-6fee-48d3-e12c-2066d28f08aa"
   },
   "outputs": [
    {
     "name": "stdout",
     "output_type": "stream",
     "text": [
      "<class 'pandas.core.frame.DataFrame'>\n",
      "RangeIndex: 10000 entries, 0 to 9999\n",
      "Data columns (total 20 columns):\n",
      " #   Column  Non-Null Count  Dtype  \n",
      "---  ------  --------------  -----  \n",
      " 0   0       10000 non-null  float64\n",
      " 1   1       10000 non-null  float64\n",
      " 2   2       10000 non-null  float64\n",
      " 3   3       10000 non-null  float64\n",
      " 4   4       10000 non-null  float64\n",
      " 5   5       9500 non-null   float64\n",
      " 6   6       9486 non-null   float64\n",
      " 7   7       9484 non-null   float64\n",
      " 8   8       9524 non-null   float64\n",
      " 9   9       9488 non-null   float64\n",
      " 10  10      9533 non-null   float64\n",
      " 11  11      9502 non-null   float64\n",
      " 12  12      9501 non-null   float64\n",
      " 13  13      8480 non-null   float64\n",
      " 14  14      8491 non-null   float64\n",
      " 15  15      8464 non-null   float64\n",
      " 16  16      8444 non-null   float64\n",
      " 17  17      8540 non-null   float64\n",
      " 18  18      6944 non-null   float64\n",
      " 19  19      7036 non-null   float64\n",
      "dtypes: float64(20)\n",
      "memory usage: 1.5 MB\n"
     ]
    }
   ],
   "source": [
    "X.info()"
   ]
  },
  {
   "cell_type": "code",
   "execution_count": 0,
   "metadata": {
    "colab": {},
    "colab_type": "code",
    "id": "nq_4qmNF0zhB",
    "outputId": "113e8f52-2fd2-4ea6-fda1-54d1947739a7"
   },
   "outputs": [
    {
     "data": {
      "text/html": [
       "<div>\n",
       "<style scoped>\n",
       "    .dataframe tbody tr th:only-of-type {\n",
       "        vertical-align: middle;\n",
       "    }\n",
       "\n",
       "    .dataframe tbody tr th {\n",
       "        vertical-align: top;\n",
       "    }\n",
       "\n",
       "    .dataframe thead th {\n",
       "        text-align: right;\n",
       "    }\n",
       "</style>\n",
       "<table border=\"1\" class=\"dataframe\">\n",
       "  <thead>\n",
       "    <tr style=\"text-align: right;\">\n",
       "      <th></th>\n",
       "      <th>0</th>\n",
       "      <th>1</th>\n",
       "      <th>2</th>\n",
       "      <th>3</th>\n",
       "      <th>4</th>\n",
       "      <th>5</th>\n",
       "      <th>6</th>\n",
       "      <th>7</th>\n",
       "      <th>8</th>\n",
       "      <th>9</th>\n",
       "      <th>10</th>\n",
       "      <th>11</th>\n",
       "      <th>12</th>\n",
       "      <th>13</th>\n",
       "      <th>14</th>\n",
       "      <th>15</th>\n",
       "      <th>16</th>\n",
       "      <th>17</th>\n",
       "      <th>18</th>\n",
       "      <th>19</th>\n",
       "    </tr>\n",
       "  </thead>\n",
       "  <tbody>\n",
       "    <tr>\n",
       "      <th>count</th>\n",
       "      <td>10000.000000</td>\n",
       "      <td>10000.000000</td>\n",
       "      <td>10000.000000</td>\n",
       "      <td>10000.000000</td>\n",
       "      <td>10000.000000</td>\n",
       "      <td>9500.000000</td>\n",
       "      <td>9486.000000</td>\n",
       "      <td>9484.000000</td>\n",
       "      <td>9524.000000</td>\n",
       "      <td>9488.000000</td>\n",
       "      <td>9533.000000</td>\n",
       "      <td>9502.000000</td>\n",
       "      <td>9501.000000</td>\n",
       "      <td>8480.000000</td>\n",
       "      <td>8491.000000</td>\n",
       "      <td>8464.000000</td>\n",
       "      <td>8444.000000</td>\n",
       "      <td>8540.000000</td>\n",
       "      <td>6944.000000</td>\n",
       "      <td>7036.000000</td>\n",
       "    </tr>\n",
       "    <tr>\n",
       "      <th>mean</th>\n",
       "      <td>0.007816</td>\n",
       "      <td>-0.004494</td>\n",
       "      <td>0.015445</td>\n",
       "      <td>-0.002850</td>\n",
       "      <td>-0.002665</td>\n",
       "      <td>-0.001352</td>\n",
       "      <td>-0.001878</td>\n",
       "      <td>0.007566</td>\n",
       "      <td>0.009118</td>\n",
       "      <td>0.010949</td>\n",
       "      <td>0.009966</td>\n",
       "      <td>0.006054</td>\n",
       "      <td>-0.013663</td>\n",
       "      <td>0.021702</td>\n",
       "      <td>0.010257</td>\n",
       "      <td>0.007172</td>\n",
       "      <td>0.004213</td>\n",
       "      <td>-0.005600</td>\n",
       "      <td>-0.029708</td>\n",
       "      <td>-0.011883</td>\n",
       "    </tr>\n",
       "    <tr>\n",
       "      <th>std</th>\n",
       "      <td>1.005474</td>\n",
       "      <td>1.001875</td>\n",
       "      <td>0.999130</td>\n",
       "      <td>0.998927</td>\n",
       "      <td>1.009008</td>\n",
       "      <td>0.993519</td>\n",
       "      <td>0.555526</td>\n",
       "      <td>0.998087</td>\n",
       "      <td>1.001083</td>\n",
       "      <td>0.999620</td>\n",
       "      <td>0.999183</td>\n",
       "      <td>0.993362</td>\n",
       "      <td>0.997309</td>\n",
       "      <td>0.983822</td>\n",
       "      <td>0.995094</td>\n",
       "      <td>1.000064</td>\n",
       "      <td>1.004617</td>\n",
       "      <td>0.864805</td>\n",
       "      <td>1.480721</td>\n",
       "      <td>1.130994</td>\n",
       "    </tr>\n",
       "    <tr>\n",
       "      <th>min</th>\n",
       "      <td>-3.700948</td>\n",
       "      <td>-3.871403</td>\n",
       "      <td>-4.694588</td>\n",
       "      <td>-3.771620</td>\n",
       "      <td>-4.852118</td>\n",
       "      <td>-3.749484</td>\n",
       "      <td>-1.040471</td>\n",
       "      <td>-3.616606</td>\n",
       "      <td>-3.587351</td>\n",
       "      <td>-3.979925</td>\n",
       "      <td>-3.929792</td>\n",
       "      <td>-3.581046</td>\n",
       "      <td>-3.590903</td>\n",
       "      <td>-3.532992</td>\n",
       "      <td>-3.888444</td>\n",
       "      <td>-3.900025</td>\n",
       "      <td>-3.666662</td>\n",
       "      <td>-1.684391</td>\n",
       "      <td>-5.015571</td>\n",
       "      <td>-2.422153</td>\n",
       "    </tr>\n",
       "    <tr>\n",
       "      <th>25%</th>\n",
       "      <td>-0.665995</td>\n",
       "      <td>-0.672802</td>\n",
       "      <td>-0.667485</td>\n",
       "      <td>-0.664023</td>\n",
       "      <td>-0.671800</td>\n",
       "      <td>-0.664564</td>\n",
       "      <td>-0.516285</td>\n",
       "      <td>-0.676178</td>\n",
       "      <td>-0.662342</td>\n",
       "      <td>-0.664936</td>\n",
       "      <td>-0.673038</td>\n",
       "      <td>-0.661168</td>\n",
       "      <td>-0.695615</td>\n",
       "      <td>-0.645510</td>\n",
       "      <td>-0.665912</td>\n",
       "      <td>-0.669883</td>\n",
       "      <td>-0.670562</td>\n",
       "      <td>-0.860446</td>\n",
       "      <td>-1.088682</td>\n",
       "      <td>-1.014615</td>\n",
       "    </tr>\n",
       "    <tr>\n",
       "      <th>50%</th>\n",
       "      <td>0.009916</td>\n",
       "      <td>-0.000425</td>\n",
       "      <td>0.016093</td>\n",
       "      <td>-0.006344</td>\n",
       "      <td>0.001348</td>\n",
       "      <td>0.005903</td>\n",
       "      <td>-0.001601</td>\n",
       "      <td>-0.001392</td>\n",
       "      <td>0.007795</td>\n",
       "      <td>0.026131</td>\n",
       "      <td>0.016920</td>\n",
       "      <td>0.002882</td>\n",
       "      <td>-0.013101</td>\n",
       "      <td>0.034174</td>\n",
       "      <td>0.020106</td>\n",
       "      <td>0.007604</td>\n",
       "      <td>-0.003590</td>\n",
       "      <td>0.033877</td>\n",
       "      <td>0.087783</td>\n",
       "      <td>-0.243568</td>\n",
       "    </tr>\n",
       "    <tr>\n",
       "      <th>75%</th>\n",
       "      <td>0.689119</td>\n",
       "      <td>0.660038</td>\n",
       "      <td>0.683355</td>\n",
       "      <td>0.644987</td>\n",
       "      <td>0.662429</td>\n",
       "      <td>0.661300</td>\n",
       "      <td>0.341713</td>\n",
       "      <td>0.683566</td>\n",
       "      <td>0.681100</td>\n",
       "      <td>0.666047</td>\n",
       "      <td>0.689976</td>\n",
       "      <td>0.677917</td>\n",
       "      <td>0.666741</td>\n",
       "      <td>0.688883</td>\n",
       "      <td>0.678020</td>\n",
       "      <td>0.687131</td>\n",
       "      <td>0.701517</td>\n",
       "      <td>0.450327</td>\n",
       "      <td>1.048064</td>\n",
       "      <td>0.998037</td>\n",
       "    </tr>\n",
       "    <tr>\n",
       "      <th>max</th>\n",
       "      <td>3.815091</td>\n",
       "      <td>3.702588</td>\n",
       "      <td>3.831790</td>\n",
       "      <td>3.417029</td>\n",
       "      <td>4.285856</td>\n",
       "      <td>3.702938</td>\n",
       "      <td>1.950792</td>\n",
       "      <td>3.902132</td>\n",
       "      <td>3.844812</td>\n",
       "      <td>4.241772</td>\n",
       "      <td>3.825216</td>\n",
       "      <td>3.766942</td>\n",
       "      <td>3.693556</td>\n",
       "      <td>3.342652</td>\n",
       "      <td>3.811277</td>\n",
       "      <td>3.844825</td>\n",
       "      <td>3.268797</td>\n",
       "      <td>3.207049</td>\n",
       "      <td>5.300254</td>\n",
       "      <td>3.421909</td>\n",
       "    </tr>\n",
       "  </tbody>\n",
       "</table>\n",
       "</div>"
      ],
      "text/plain": [
       "                 0             1             2             3             4   \\\n",
       "count  10000.000000  10000.000000  10000.000000  10000.000000  10000.000000   \n",
       "mean       0.007816     -0.004494      0.015445     -0.002850     -0.002665   \n",
       "std        1.005474      1.001875      0.999130      0.998927      1.009008   \n",
       "min       -3.700948     -3.871403     -4.694588     -3.771620     -4.852118   \n",
       "25%       -0.665995     -0.672802     -0.667485     -0.664023     -0.671800   \n",
       "50%        0.009916     -0.000425      0.016093     -0.006344      0.001348   \n",
       "75%        0.689119      0.660038      0.683355      0.644987      0.662429   \n",
       "max        3.815091      3.702588      3.831790      3.417029      4.285856   \n",
       "\n",
       "                5            6            7            8            9   \\\n",
       "count  9500.000000  9486.000000  9484.000000  9524.000000  9488.000000   \n",
       "mean     -0.001352    -0.001878     0.007566     0.009118     0.010949   \n",
       "std       0.993519     0.555526     0.998087     1.001083     0.999620   \n",
       "min      -3.749484    -1.040471    -3.616606    -3.587351    -3.979925   \n",
       "25%      -0.664564    -0.516285    -0.676178    -0.662342    -0.664936   \n",
       "50%       0.005903    -0.001601    -0.001392     0.007795     0.026131   \n",
       "75%       0.661300     0.341713     0.683566     0.681100     0.666047   \n",
       "max       3.702938     1.950792     3.902132     3.844812     4.241772   \n",
       "\n",
       "                10           11           12           13           14  \\\n",
       "count  9533.000000  9502.000000  9501.000000  8480.000000  8491.000000   \n",
       "mean      0.009966     0.006054    -0.013663     0.021702     0.010257   \n",
       "std       0.999183     0.993362     0.997309     0.983822     0.995094   \n",
       "min      -3.929792    -3.581046    -3.590903    -3.532992    -3.888444   \n",
       "25%      -0.673038    -0.661168    -0.695615    -0.645510    -0.665912   \n",
       "50%       0.016920     0.002882    -0.013101     0.034174     0.020106   \n",
       "75%       0.689976     0.677917     0.666741     0.688883     0.678020   \n",
       "max       3.825216     3.766942     3.693556     3.342652     3.811277   \n",
       "\n",
       "                15           16           17           18           19  \n",
       "count  8464.000000  8444.000000  8540.000000  6944.000000  7036.000000  \n",
       "mean      0.007172     0.004213    -0.005600    -0.029708    -0.011883  \n",
       "std       1.000064     1.004617     0.864805     1.480721     1.130994  \n",
       "min      -3.900025    -3.666662    -1.684391    -5.015571    -2.422153  \n",
       "25%      -0.669883    -0.670562    -0.860446    -1.088682    -1.014615  \n",
       "50%       0.007604    -0.003590     0.033877     0.087783    -0.243568  \n",
       "75%       0.687131     0.701517     0.450327     1.048064     0.998037  \n",
       "max       3.844825     3.268797     3.207049     5.300254     3.421909  "
      ]
     },
     "execution_count": 9,
     "metadata": {
      "tags": []
     },
     "output_type": "execute_result"
    }
   ],
   "source": [
    "X.describe()"
   ]
  },
  {
   "cell_type": "markdown",
   "metadata": {
    "colab_type": "text",
    "id": "dqTxkWtP0zhC"
   },
   "source": [
    "Compute the Pearson and Spearman correlation between all variable pairs."
   ]
  },
  {
   "cell_type": "code",
   "execution_count": 0,
   "metadata": {
    "colab": {},
    "colab_type": "code",
    "id": "zxTDW6VD0zhD",
    "outputId": "36ccf6c2-4a99-4b78-f403-7d4721949318"
   },
   "outputs": [
    {
     "data": {
      "text/html": [
       "<div>\n",
       "<style scoped>\n",
       "    .dataframe tbody tr th:only-of-type {\n",
       "        vertical-align: middle;\n",
       "    }\n",
       "\n",
       "    .dataframe tbody tr th {\n",
       "        vertical-align: top;\n",
       "    }\n",
       "\n",
       "    .dataframe thead th {\n",
       "        text-align: right;\n",
       "    }\n",
       "</style>\n",
       "<table border=\"1\" class=\"dataframe\">\n",
       "  <thead>\n",
       "    <tr style=\"text-align: right;\">\n",
       "      <th></th>\n",
       "      <th>0</th>\n",
       "      <th>1</th>\n",
       "      <th>2</th>\n",
       "      <th>3</th>\n",
       "      <th>4</th>\n",
       "      <th>5</th>\n",
       "      <th>6</th>\n",
       "      <th>7</th>\n",
       "      <th>8</th>\n",
       "      <th>9</th>\n",
       "      <th>10</th>\n",
       "      <th>11</th>\n",
       "      <th>12</th>\n",
       "      <th>13</th>\n",
       "      <th>14</th>\n",
       "      <th>15</th>\n",
       "      <th>16</th>\n",
       "      <th>17</th>\n",
       "      <th>18</th>\n",
       "      <th>19</th>\n",
       "    </tr>\n",
       "  </thead>\n",
       "  <tbody>\n",
       "    <tr>\n",
       "      <th>0</th>\n",
       "      <td>1.000000</td>\n",
       "      <td>-0.005400</td>\n",
       "      <td>-0.008661</td>\n",
       "      <td>0.003838</td>\n",
       "      <td>-0.004401</td>\n",
       "      <td>-0.016201</td>\n",
       "      <td>0.010818</td>\n",
       "      <td>0.002026</td>\n",
       "      <td>-0.005018</td>\n",
       "      <td>-0.000741</td>\n",
       "      <td>0.002588</td>\n",
       "      <td>-0.009577</td>\n",
       "      <td>-0.007846</td>\n",
       "      <td>0.006388</td>\n",
       "      <td>-0.002268</td>\n",
       "      <td>-0.001024</td>\n",
       "      <td>-0.000950</td>\n",
       "      <td>0.012277</td>\n",
       "      <td>0.005209</td>\n",
       "      <td>0.004496</td>\n",
       "    </tr>\n",
       "    <tr>\n",
       "      <th>1</th>\n",
       "      <td>-0.005400</td>\n",
       "      <td>1.000000</td>\n",
       "      <td>-0.000145</td>\n",
       "      <td>-0.011906</td>\n",
       "      <td>-0.010360</td>\n",
       "      <td>-0.002512</td>\n",
       "      <td>-0.018824</td>\n",
       "      <td>0.002072</td>\n",
       "      <td>0.000557</td>\n",
       "      <td>0.009906</td>\n",
       "      <td>-0.021143</td>\n",
       "      <td>-0.018931</td>\n",
       "      <td>-0.004796</td>\n",
       "      <td>0.006038</td>\n",
       "      <td>0.005612</td>\n",
       "      <td>0.020259</td>\n",
       "      <td>0.008409</td>\n",
       "      <td>-0.018194</td>\n",
       "      <td>-0.016637</td>\n",
       "      <td>-0.022524</td>\n",
       "    </tr>\n",
       "    <tr>\n",
       "      <th>2</th>\n",
       "      <td>-0.008661</td>\n",
       "      <td>-0.000145</td>\n",
       "      <td>1.000000</td>\n",
       "      <td>-0.004262</td>\n",
       "      <td>0.014562</td>\n",
       "      <td>-0.013415</td>\n",
       "      <td>0.012293</td>\n",
       "      <td>0.001222</td>\n",
       "      <td>-0.001809</td>\n",
       "      <td>0.016270</td>\n",
       "      <td>0.007693</td>\n",
       "      <td>0.012367</td>\n",
       "      <td>0.010031</td>\n",
       "      <td>0.014911</td>\n",
       "      <td>0.014391</td>\n",
       "      <td>0.023636</td>\n",
       "      <td>-0.016494</td>\n",
       "      <td>0.008064</td>\n",
       "      <td>0.012593</td>\n",
       "      <td>0.023237</td>\n",
       "    </tr>\n",
       "    <tr>\n",
       "      <th>3</th>\n",
       "      <td>0.003838</td>\n",
       "      <td>-0.011906</td>\n",
       "      <td>-0.004262</td>\n",
       "      <td>1.000000</td>\n",
       "      <td>0.012652</td>\n",
       "      <td>0.008907</td>\n",
       "      <td>-0.010381</td>\n",
       "      <td>0.012911</td>\n",
       "      <td>0.009043</td>\n",
       "      <td>0.004306</td>\n",
       "      <td>-0.006920</td>\n",
       "      <td>-0.008279</td>\n",
       "      <td>0.012788</td>\n",
       "      <td>0.003263</td>\n",
       "      <td>0.014990</td>\n",
       "      <td>-0.002600</td>\n",
       "      <td>-0.002174</td>\n",
       "      <td>-0.011348</td>\n",
       "      <td>-0.016396</td>\n",
       "      <td>-0.013982</td>\n",
       "    </tr>\n",
       "    <tr>\n",
       "      <th>4</th>\n",
       "      <td>-0.004401</td>\n",
       "      <td>-0.010360</td>\n",
       "      <td>0.014562</td>\n",
       "      <td>0.012652</td>\n",
       "      <td>1.000000</td>\n",
       "      <td>0.002579</td>\n",
       "      <td>0.026683</td>\n",
       "      <td>-0.001180</td>\n",
       "      <td>0.010832</td>\n",
       "      <td>0.011774</td>\n",
       "      <td>-0.016657</td>\n",
       "      <td>-0.023943</td>\n",
       "      <td>-0.013096</td>\n",
       "      <td>0.002228</td>\n",
       "      <td>0.000935</td>\n",
       "      <td>-0.004774</td>\n",
       "      <td>0.003497</td>\n",
       "      <td>0.024941</td>\n",
       "      <td>0.003482</td>\n",
       "      <td>0.035036</td>\n",
       "    </tr>\n",
       "    <tr>\n",
       "      <th>5</th>\n",
       "      <td>-0.016201</td>\n",
       "      <td>-0.002512</td>\n",
       "      <td>-0.013415</td>\n",
       "      <td>0.008907</td>\n",
       "      <td>0.002579</td>\n",
       "      <td>1.000000</td>\n",
       "      <td>0.004121</td>\n",
       "      <td>0.000273</td>\n",
       "      <td>-0.006452</td>\n",
       "      <td>-0.001853</td>\n",
       "      <td>-0.018729</td>\n",
       "      <td>-0.002123</td>\n",
       "      <td>-0.008812</td>\n",
       "      <td>0.001018</td>\n",
       "      <td>-0.000900</td>\n",
       "      <td>-0.002676</td>\n",
       "      <td>-0.013920</td>\n",
       "      <td>0.003983</td>\n",
       "      <td>0.012457</td>\n",
       "      <td>0.016535</td>\n",
       "    </tr>\n",
       "    <tr>\n",
       "      <th>6</th>\n",
       "      <td>0.010818</td>\n",
       "      <td>-0.018824</td>\n",
       "      <td>0.012293</td>\n",
       "      <td>-0.010381</td>\n",
       "      <td>0.026683</td>\n",
       "      <td>0.004121</td>\n",
       "      <td>1.000000</td>\n",
       "      <td>-0.010920</td>\n",
       "      <td>-0.001841</td>\n",
       "      <td>-0.003696</td>\n",
       "      <td>0.007500</td>\n",
       "      <td>0.003980</td>\n",
       "      <td>-0.005636</td>\n",
       "      <td>0.003840</td>\n",
       "      <td>0.000405</td>\n",
       "      <td>0.007095</td>\n",
       "      <td>-0.005540</td>\n",
       "      <td>0.987520</td>\n",
       "      <td>-0.376842</td>\n",
       "      <td>0.871158</td>\n",
       "    </tr>\n",
       "    <tr>\n",
       "      <th>7</th>\n",
       "      <td>0.002026</td>\n",
       "      <td>0.002072</td>\n",
       "      <td>0.001222</td>\n",
       "      <td>0.012911</td>\n",
       "      <td>-0.001180</td>\n",
       "      <td>0.000273</td>\n",
       "      <td>-0.010920</td>\n",
       "      <td>1.000000</td>\n",
       "      <td>0.008621</td>\n",
       "      <td>0.001275</td>\n",
       "      <td>-0.002723</td>\n",
       "      <td>0.009138</td>\n",
       "      <td>-0.000148</td>\n",
       "      <td>-0.006872</td>\n",
       "      <td>-0.004614</td>\n",
       "      <td>-0.011598</td>\n",
       "      <td>0.022576</td>\n",
       "      <td>-0.016597</td>\n",
       "      <td>0.009554</td>\n",
       "      <td>-0.002464</td>\n",
       "    </tr>\n",
       "    <tr>\n",
       "      <th>8</th>\n",
       "      <td>-0.005018</td>\n",
       "      <td>0.000557</td>\n",
       "      <td>-0.001809</td>\n",
       "      <td>0.009043</td>\n",
       "      <td>0.010832</td>\n",
       "      <td>-0.006452</td>\n",
       "      <td>-0.001841</td>\n",
       "      <td>0.008621</td>\n",
       "      <td>1.000000</td>\n",
       "      <td>-0.009226</td>\n",
       "      <td>0.015279</td>\n",
       "      <td>-0.008859</td>\n",
       "      <td>-0.005887</td>\n",
       "      <td>-0.004545</td>\n",
       "      <td>0.014595</td>\n",
       "      <td>0.004541</td>\n",
       "      <td>0.006643</td>\n",
       "      <td>0.002981</td>\n",
       "      <td>-0.016982</td>\n",
       "      <td>0.001732</td>\n",
       "    </tr>\n",
       "    <tr>\n",
       "      <th>9</th>\n",
       "      <td>-0.000741</td>\n",
       "      <td>0.009906</td>\n",
       "      <td>0.016270</td>\n",
       "      <td>0.004306</td>\n",
       "      <td>0.011774</td>\n",
       "      <td>-0.001853</td>\n",
       "      <td>-0.003696</td>\n",
       "      <td>0.001275</td>\n",
       "      <td>-0.009226</td>\n",
       "      <td>1.000000</td>\n",
       "      <td>-0.001947</td>\n",
       "      <td>-0.016013</td>\n",
       "      <td>0.008823</td>\n",
       "      <td>-0.002415</td>\n",
       "      <td>0.000513</td>\n",
       "      <td>0.000141</td>\n",
       "      <td>-0.001038</td>\n",
       "      <td>-0.008600</td>\n",
       "      <td>-0.003125</td>\n",
       "      <td>0.000233</td>\n",
       "    </tr>\n",
       "    <tr>\n",
       "      <th>10</th>\n",
       "      <td>0.002588</td>\n",
       "      <td>-0.021143</td>\n",
       "      <td>0.007693</td>\n",
       "      <td>-0.006920</td>\n",
       "      <td>-0.016657</td>\n",
       "      <td>-0.018729</td>\n",
       "      <td>0.007500</td>\n",
       "      <td>-0.002723</td>\n",
       "      <td>0.015279</td>\n",
       "      <td>-0.001947</td>\n",
       "      <td>1.000000</td>\n",
       "      <td>0.006566</td>\n",
       "      <td>-0.030850</td>\n",
       "      <td>-0.017756</td>\n",
       "      <td>-0.001418</td>\n",
       "      <td>0.007495</td>\n",
       "      <td>0.010029</td>\n",
       "      <td>0.000694</td>\n",
       "      <td>-0.016486</td>\n",
       "      <td>0.006420</td>\n",
       "    </tr>\n",
       "    <tr>\n",
       "      <th>11</th>\n",
       "      <td>-0.009577</td>\n",
       "      <td>-0.018931</td>\n",
       "      <td>0.012367</td>\n",
       "      <td>-0.008279</td>\n",
       "      <td>-0.023943</td>\n",
       "      <td>-0.002123</td>\n",
       "      <td>0.003980</td>\n",
       "      <td>0.009138</td>\n",
       "      <td>-0.008859</td>\n",
       "      <td>-0.016013</td>\n",
       "      <td>0.006566</td>\n",
       "      <td>1.000000</td>\n",
       "      <td>-0.012745</td>\n",
       "      <td>-0.012455</td>\n",
       "      <td>0.004096</td>\n",
       "      <td>0.013880</td>\n",
       "      <td>-0.007136</td>\n",
       "      <td>-0.000496</td>\n",
       "      <td>-0.003806</td>\n",
       "      <td>0.004543</td>\n",
       "    </tr>\n",
       "    <tr>\n",
       "      <th>12</th>\n",
       "      <td>-0.007846</td>\n",
       "      <td>-0.004796</td>\n",
       "      <td>0.010031</td>\n",
       "      <td>0.012788</td>\n",
       "      <td>-0.013096</td>\n",
       "      <td>-0.008812</td>\n",
       "      <td>-0.005636</td>\n",
       "      <td>-0.000148</td>\n",
       "      <td>-0.005887</td>\n",
       "      <td>0.008823</td>\n",
       "      <td>-0.030850</td>\n",
       "      <td>-0.012745</td>\n",
       "      <td>1.000000</td>\n",
       "      <td>-0.026019</td>\n",
       "      <td>0.014927</td>\n",
       "      <td>-0.000754</td>\n",
       "      <td>0.023332</td>\n",
       "      <td>-0.011348</td>\n",
       "      <td>0.002848</td>\n",
       "      <td>-0.003073</td>\n",
       "    </tr>\n",
       "    <tr>\n",
       "      <th>13</th>\n",
       "      <td>0.006388</td>\n",
       "      <td>0.006038</td>\n",
       "      <td>0.014911</td>\n",
       "      <td>0.003263</td>\n",
       "      <td>0.002228</td>\n",
       "      <td>0.001018</td>\n",
       "      <td>0.003840</td>\n",
       "      <td>-0.006872</td>\n",
       "      <td>-0.004545</td>\n",
       "      <td>-0.002415</td>\n",
       "      <td>-0.017756</td>\n",
       "      <td>-0.012455</td>\n",
       "      <td>-0.026019</td>\n",
       "      <td>1.000000</td>\n",
       "      <td>0.019798</td>\n",
       "      <td>-0.003362</td>\n",
       "      <td>0.005267</td>\n",
       "      <td>0.001227</td>\n",
       "      <td>-0.002832</td>\n",
       "      <td>-0.000477</td>\n",
       "    </tr>\n",
       "    <tr>\n",
       "      <th>14</th>\n",
       "      <td>-0.002268</td>\n",
       "      <td>0.005612</td>\n",
       "      <td>0.014391</td>\n",
       "      <td>0.014990</td>\n",
       "      <td>0.000935</td>\n",
       "      <td>-0.000900</td>\n",
       "      <td>0.000405</td>\n",
       "      <td>-0.004614</td>\n",
       "      <td>0.014595</td>\n",
       "      <td>0.000513</td>\n",
       "      <td>-0.001418</td>\n",
       "      <td>0.004096</td>\n",
       "      <td>0.014927</td>\n",
       "      <td>0.019798</td>\n",
       "      <td>1.000000</td>\n",
       "      <td>-0.007775</td>\n",
       "      <td>-0.003592</td>\n",
       "      <td>0.007145</td>\n",
       "      <td>0.001672</td>\n",
       "      <td>0.016874</td>\n",
       "    </tr>\n",
       "    <tr>\n",
       "      <th>15</th>\n",
       "      <td>-0.001024</td>\n",
       "      <td>0.020259</td>\n",
       "      <td>0.023636</td>\n",
       "      <td>-0.002600</td>\n",
       "      <td>-0.004774</td>\n",
       "      <td>-0.002676</td>\n",
       "      <td>0.007095</td>\n",
       "      <td>-0.011598</td>\n",
       "      <td>0.004541</td>\n",
       "      <td>0.000141</td>\n",
       "      <td>0.007495</td>\n",
       "      <td>0.013880</td>\n",
       "      <td>-0.000754</td>\n",
       "      <td>-0.003362</td>\n",
       "      <td>-0.007775</td>\n",
       "      <td>1.000000</td>\n",
       "      <td>-0.021538</td>\n",
       "      <td>0.013004</td>\n",
       "      <td>-0.011122</td>\n",
       "      <td>-0.000829</td>\n",
       "    </tr>\n",
       "    <tr>\n",
       "      <th>16</th>\n",
       "      <td>-0.000950</td>\n",
       "      <td>0.008409</td>\n",
       "      <td>-0.016494</td>\n",
       "      <td>-0.002174</td>\n",
       "      <td>0.003497</td>\n",
       "      <td>-0.013920</td>\n",
       "      <td>-0.005540</td>\n",
       "      <td>0.022576</td>\n",
       "      <td>0.006643</td>\n",
       "      <td>-0.001038</td>\n",
       "      <td>0.010029</td>\n",
       "      <td>-0.007136</td>\n",
       "      <td>0.023332</td>\n",
       "      <td>0.005267</td>\n",
       "      <td>-0.003592</td>\n",
       "      <td>-0.021538</td>\n",
       "      <td>1.000000</td>\n",
       "      <td>-0.002729</td>\n",
       "      <td>0.014085</td>\n",
       "      <td>-0.008758</td>\n",
       "    </tr>\n",
       "    <tr>\n",
       "      <th>17</th>\n",
       "      <td>0.012277</td>\n",
       "      <td>-0.018194</td>\n",
       "      <td>0.008064</td>\n",
       "      <td>-0.011348</td>\n",
       "      <td>0.024941</td>\n",
       "      <td>0.003983</td>\n",
       "      <td>0.987520</td>\n",
       "      <td>-0.016597</td>\n",
       "      <td>0.002981</td>\n",
       "      <td>-0.008600</td>\n",
       "      <td>0.000694</td>\n",
       "      <td>-0.000496</td>\n",
       "      <td>-0.011348</td>\n",
       "      <td>0.001227</td>\n",
       "      <td>0.007145</td>\n",
       "      <td>0.013004</td>\n",
       "      <td>-0.002729</td>\n",
       "      <td>1.000000</td>\n",
       "      <td>-0.518810</td>\n",
       "      <td>0.780894</td>\n",
       "    </tr>\n",
       "    <tr>\n",
       "      <th>18</th>\n",
       "      <td>0.005209</td>\n",
       "      <td>-0.016637</td>\n",
       "      <td>0.012593</td>\n",
       "      <td>-0.016396</td>\n",
       "      <td>0.003482</td>\n",
       "      <td>0.012457</td>\n",
       "      <td>-0.376842</td>\n",
       "      <td>0.009554</td>\n",
       "      <td>-0.016982</td>\n",
       "      <td>-0.003125</td>\n",
       "      <td>-0.016486</td>\n",
       "      <td>-0.003806</td>\n",
       "      <td>0.002848</td>\n",
       "      <td>-0.002832</td>\n",
       "      <td>0.001672</td>\n",
       "      <td>-0.011122</td>\n",
       "      <td>0.014085</td>\n",
       "      <td>-0.518810</td>\n",
       "      <td>1.000000</td>\n",
       "      <td>0.136072</td>\n",
       "    </tr>\n",
       "    <tr>\n",
       "      <th>19</th>\n",
       "      <td>0.004496</td>\n",
       "      <td>-0.022524</td>\n",
       "      <td>0.023237</td>\n",
       "      <td>-0.013982</td>\n",
       "      <td>0.035036</td>\n",
       "      <td>0.016535</td>\n",
       "      <td>0.871158</td>\n",
       "      <td>-0.002464</td>\n",
       "      <td>0.001732</td>\n",
       "      <td>0.000233</td>\n",
       "      <td>0.006420</td>\n",
       "      <td>0.004543</td>\n",
       "      <td>-0.003073</td>\n",
       "      <td>-0.000477</td>\n",
       "      <td>0.016874</td>\n",
       "      <td>-0.000829</td>\n",
       "      <td>-0.008758</td>\n",
       "      <td>0.780894</td>\n",
       "      <td>0.136072</td>\n",
       "      <td>1.000000</td>\n",
       "    </tr>\n",
       "  </tbody>\n",
       "</table>\n",
       "</div>"
      ],
      "text/plain": [
       "          0         1         2         3         4         5         6   \\\n",
       "0   1.000000 -0.005400 -0.008661  0.003838 -0.004401 -0.016201  0.010818   \n",
       "1  -0.005400  1.000000 -0.000145 -0.011906 -0.010360 -0.002512 -0.018824   \n",
       "2  -0.008661 -0.000145  1.000000 -0.004262  0.014562 -0.013415  0.012293   \n",
       "3   0.003838 -0.011906 -0.004262  1.000000  0.012652  0.008907 -0.010381   \n",
       "4  -0.004401 -0.010360  0.014562  0.012652  1.000000  0.002579  0.026683   \n",
       "5  -0.016201 -0.002512 -0.013415  0.008907  0.002579  1.000000  0.004121   \n",
       "6   0.010818 -0.018824  0.012293 -0.010381  0.026683  0.004121  1.000000   \n",
       "7   0.002026  0.002072  0.001222  0.012911 -0.001180  0.000273 -0.010920   \n",
       "8  -0.005018  0.000557 -0.001809  0.009043  0.010832 -0.006452 -0.001841   \n",
       "9  -0.000741  0.009906  0.016270  0.004306  0.011774 -0.001853 -0.003696   \n",
       "10  0.002588 -0.021143  0.007693 -0.006920 -0.016657 -0.018729  0.007500   \n",
       "11 -0.009577 -0.018931  0.012367 -0.008279 -0.023943 -0.002123  0.003980   \n",
       "12 -0.007846 -0.004796  0.010031  0.012788 -0.013096 -0.008812 -0.005636   \n",
       "13  0.006388  0.006038  0.014911  0.003263  0.002228  0.001018  0.003840   \n",
       "14 -0.002268  0.005612  0.014391  0.014990  0.000935 -0.000900  0.000405   \n",
       "15 -0.001024  0.020259  0.023636 -0.002600 -0.004774 -0.002676  0.007095   \n",
       "16 -0.000950  0.008409 -0.016494 -0.002174  0.003497 -0.013920 -0.005540   \n",
       "17  0.012277 -0.018194  0.008064 -0.011348  0.024941  0.003983  0.987520   \n",
       "18  0.005209 -0.016637  0.012593 -0.016396  0.003482  0.012457 -0.376842   \n",
       "19  0.004496 -0.022524  0.023237 -0.013982  0.035036  0.016535  0.871158   \n",
       "\n",
       "          7         8         9         10        11        12        13  \\\n",
       "0   0.002026 -0.005018 -0.000741  0.002588 -0.009577 -0.007846  0.006388   \n",
       "1   0.002072  0.000557  0.009906 -0.021143 -0.018931 -0.004796  0.006038   \n",
       "2   0.001222 -0.001809  0.016270  0.007693  0.012367  0.010031  0.014911   \n",
       "3   0.012911  0.009043  0.004306 -0.006920 -0.008279  0.012788  0.003263   \n",
       "4  -0.001180  0.010832  0.011774 -0.016657 -0.023943 -0.013096  0.002228   \n",
       "5   0.000273 -0.006452 -0.001853 -0.018729 -0.002123 -0.008812  0.001018   \n",
       "6  -0.010920 -0.001841 -0.003696  0.007500  0.003980 -0.005636  0.003840   \n",
       "7   1.000000  0.008621  0.001275 -0.002723  0.009138 -0.000148 -0.006872   \n",
       "8   0.008621  1.000000 -0.009226  0.015279 -0.008859 -0.005887 -0.004545   \n",
       "9   0.001275 -0.009226  1.000000 -0.001947 -0.016013  0.008823 -0.002415   \n",
       "10 -0.002723  0.015279 -0.001947  1.000000  0.006566 -0.030850 -0.017756   \n",
       "11  0.009138 -0.008859 -0.016013  0.006566  1.000000 -0.012745 -0.012455   \n",
       "12 -0.000148 -0.005887  0.008823 -0.030850 -0.012745  1.000000 -0.026019   \n",
       "13 -0.006872 -0.004545 -0.002415 -0.017756 -0.012455 -0.026019  1.000000   \n",
       "14 -0.004614  0.014595  0.000513 -0.001418  0.004096  0.014927  0.019798   \n",
       "15 -0.011598  0.004541  0.000141  0.007495  0.013880 -0.000754 -0.003362   \n",
       "16  0.022576  0.006643 -0.001038  0.010029 -0.007136  0.023332  0.005267   \n",
       "17 -0.016597  0.002981 -0.008600  0.000694 -0.000496 -0.011348  0.001227   \n",
       "18  0.009554 -0.016982 -0.003125 -0.016486 -0.003806  0.002848 -0.002832   \n",
       "19 -0.002464  0.001732  0.000233  0.006420  0.004543 -0.003073 -0.000477   \n",
       "\n",
       "          14        15        16        17        18        19  \n",
       "0  -0.002268 -0.001024 -0.000950  0.012277  0.005209  0.004496  \n",
       "1   0.005612  0.020259  0.008409 -0.018194 -0.016637 -0.022524  \n",
       "2   0.014391  0.023636 -0.016494  0.008064  0.012593  0.023237  \n",
       "3   0.014990 -0.002600 -0.002174 -0.011348 -0.016396 -0.013982  \n",
       "4   0.000935 -0.004774  0.003497  0.024941  0.003482  0.035036  \n",
       "5  -0.000900 -0.002676 -0.013920  0.003983  0.012457  0.016535  \n",
       "6   0.000405  0.007095 -0.005540  0.987520 -0.376842  0.871158  \n",
       "7  -0.004614 -0.011598  0.022576 -0.016597  0.009554 -0.002464  \n",
       "8   0.014595  0.004541  0.006643  0.002981 -0.016982  0.001732  \n",
       "9   0.000513  0.000141 -0.001038 -0.008600 -0.003125  0.000233  \n",
       "10 -0.001418  0.007495  0.010029  0.000694 -0.016486  0.006420  \n",
       "11  0.004096  0.013880 -0.007136 -0.000496 -0.003806  0.004543  \n",
       "12  0.014927 -0.000754  0.023332 -0.011348  0.002848 -0.003073  \n",
       "13  0.019798 -0.003362  0.005267  0.001227 -0.002832 -0.000477  \n",
       "14  1.000000 -0.007775 -0.003592  0.007145  0.001672  0.016874  \n",
       "15 -0.007775  1.000000 -0.021538  0.013004 -0.011122 -0.000829  \n",
       "16 -0.003592 -0.021538  1.000000 -0.002729  0.014085 -0.008758  \n",
       "17  0.007145  0.013004 -0.002729  1.000000 -0.518810  0.780894  \n",
       "18  0.001672 -0.011122  0.014085 -0.518810  1.000000  0.136072  \n",
       "19  0.016874 -0.000829 -0.008758  0.780894  0.136072  1.000000  "
      ]
     },
     "execution_count": 10,
     "metadata": {
      "tags": []
     },
     "output_type": "execute_result"
    }
   ],
   "source": [
    "X.corr(method='pearson')"
   ]
  },
  {
   "cell_type": "code",
   "execution_count": 0,
   "metadata": {
    "colab": {},
    "colab_type": "code",
    "id": "VMS7Vh3-0zhF",
    "outputId": "f8337c03-0832-46dc-ca0e-871a73a37f51"
   },
   "outputs": [
    {
     "data": {
      "text/plain": [
       "<matplotlib.axes._subplots.AxesSubplot at 0x1962541aa48>"
      ]
     },
     "execution_count": 11,
     "metadata": {
      "tags": []
     },
     "output_type": "execute_result"
    },
    {
     "data": {
      "image/png": "[encoded data removed]",
      "text/plain": [
       "<Figure size 432x288 with 2 Axes>"
      ]
     },
     "metadata": {
      "needs_background": "light",
      "tags": []
     },
     "output_type": "display_data"
    }
   ],
   "source": [
    "sns.heatmap(X.corr(method='pearson'))"
   ]
  },
  {
   "cell_type": "code",
   "execution_count": 0,
   "metadata": {
    "colab": {},
    "colab_type": "code",
    "id": "WCo_74Xe0zhH",
    "outputId": "425662d6-7283-4285-ba5e-952fb7ee2b33"
   },
   "outputs": [
    {
     "data": {
      "text/html": [
       "<div>\n",
       "<style scoped>\n",
       "    .dataframe tbody tr th:only-of-type {\n",
       "        vertical-align: middle;\n",
       "    }\n",
       "\n",
       "    .dataframe tbody tr th {\n",
       "        vertical-align: top;\n",
       "    }\n",
       "\n",
       "    .dataframe thead th {\n",
       "        text-align: right;\n",
       "    }\n",
       "</style>\n",
       "<table border=\"1\" class=\"dataframe\">\n",
       "  <thead>\n",
       "    <tr style=\"text-align: right;\">\n",
       "      <th></th>\n",
       "      <th>0</th>\n",
       "      <th>1</th>\n",
       "      <th>2</th>\n",
       "      <th>3</th>\n",
       "      <th>4</th>\n",
       "      <th>5</th>\n",
       "      <th>6</th>\n",
       "      <th>7</th>\n",
       "      <th>8</th>\n",
       "      <th>9</th>\n",
       "      <th>10</th>\n",
       "      <th>11</th>\n",
       "      <th>12</th>\n",
       "      <th>13</th>\n",
       "      <th>14</th>\n",
       "      <th>15</th>\n",
       "      <th>16</th>\n",
       "      <th>17</th>\n",
       "      <th>18</th>\n",
       "      <th>19</th>\n",
       "    </tr>\n",
       "  </thead>\n",
       "  <tbody>\n",
       "    <tr>\n",
       "      <th>0</th>\n",
       "      <td>1.000000</td>\n",
       "      <td>-0.009541</td>\n",
       "      <td>-0.005888</td>\n",
       "      <td>0.003648</td>\n",
       "      <td>-0.008199</td>\n",
       "      <td>-0.016223</td>\n",
       "      <td>0.013174</td>\n",
       "      <td>0.002328</td>\n",
       "      <td>-0.009664</td>\n",
       "      <td>-0.003297</td>\n",
       "      <td>0.000300</td>\n",
       "      <td>-0.009602</td>\n",
       "      <td>-0.010168</td>\n",
       "      <td>0.001533</td>\n",
       "      <td>0.004151</td>\n",
       "      <td>-0.008050</td>\n",
       "      <td>-0.002072</td>\n",
       "      <td>0.013068</td>\n",
       "      <td>0.009450</td>\n",
       "      <td>0.004084</td>\n",
       "    </tr>\n",
       "    <tr>\n",
       "      <th>1</th>\n",
       "      <td>-0.009541</td>\n",
       "      <td>1.000000</td>\n",
       "      <td>-0.004866</td>\n",
       "      <td>-0.011291</td>\n",
       "      <td>-0.010461</td>\n",
       "      <td>-0.001110</td>\n",
       "      <td>-0.019992</td>\n",
       "      <td>0.000289</td>\n",
       "      <td>0.002729</td>\n",
       "      <td>0.013917</td>\n",
       "      <td>-0.020113</td>\n",
       "      <td>-0.022240</td>\n",
       "      <td>-0.004664</td>\n",
       "      <td>0.008317</td>\n",
       "      <td>0.002077</td>\n",
       "      <td>0.014342</td>\n",
       "      <td>0.007378</td>\n",
       "      <td>-0.020729</td>\n",
       "      <td>-0.017334</td>\n",
       "      <td>-0.026207</td>\n",
       "    </tr>\n",
       "    <tr>\n",
       "      <th>2</th>\n",
       "      <td>-0.005888</td>\n",
       "      <td>-0.004866</td>\n",
       "      <td>1.000000</td>\n",
       "      <td>-0.002878</td>\n",
       "      <td>0.016919</td>\n",
       "      <td>-0.005448</td>\n",
       "      <td>0.014042</td>\n",
       "      <td>-0.002030</td>\n",
       "      <td>-0.003880</td>\n",
       "      <td>0.017299</td>\n",
       "      <td>0.006898</td>\n",
       "      <td>0.010643</td>\n",
       "      <td>0.010514</td>\n",
       "      <td>0.015923</td>\n",
       "      <td>0.019244</td>\n",
       "      <td>0.021976</td>\n",
       "      <td>-0.013687</td>\n",
       "      <td>0.009114</td>\n",
       "      <td>0.011748</td>\n",
       "      <td>0.025864</td>\n",
       "    </tr>\n",
       "    <tr>\n",
       "      <th>3</th>\n",
       "      <td>0.003648</td>\n",
       "      <td>-0.011291</td>\n",
       "      <td>-0.002878</td>\n",
       "      <td>1.000000</td>\n",
       "      <td>0.012555</td>\n",
       "      <td>0.012466</td>\n",
       "      <td>-0.011067</td>\n",
       "      <td>0.013214</td>\n",
       "      <td>0.008460</td>\n",
       "      <td>0.005800</td>\n",
       "      <td>-0.005629</td>\n",
       "      <td>-0.007887</td>\n",
       "      <td>0.016986</td>\n",
       "      <td>0.005981</td>\n",
       "      <td>0.012998</td>\n",
       "      <td>-0.006076</td>\n",
       "      <td>-0.004907</td>\n",
       "      <td>-0.009922</td>\n",
       "      <td>-0.012221</td>\n",
       "      <td>-0.015097</td>\n",
       "    </tr>\n",
       "    <tr>\n",
       "      <th>4</th>\n",
       "      <td>-0.008199</td>\n",
       "      <td>-0.010461</td>\n",
       "      <td>0.016919</td>\n",
       "      <td>0.012555</td>\n",
       "      <td>1.000000</td>\n",
       "      <td>0.005958</td>\n",
       "      <td>0.026661</td>\n",
       "      <td>-0.001580</td>\n",
       "      <td>0.008988</td>\n",
       "      <td>0.011668</td>\n",
       "      <td>-0.011103</td>\n",
       "      <td>-0.023675</td>\n",
       "      <td>-0.012797</td>\n",
       "      <td>-0.002553</td>\n",
       "      <td>0.000060</td>\n",
       "      <td>-0.004687</td>\n",
       "      <td>0.004140</td>\n",
       "      <td>0.024217</td>\n",
       "      <td>0.006550</td>\n",
       "      <td>0.034038</td>\n",
       "    </tr>\n",
       "    <tr>\n",
       "      <th>5</th>\n",
       "      <td>-0.016223</td>\n",
       "      <td>-0.001110</td>\n",
       "      <td>-0.005448</td>\n",
       "      <td>0.012466</td>\n",
       "      <td>0.005958</td>\n",
       "      <td>1.000000</td>\n",
       "      <td>0.004368</td>\n",
       "      <td>0.003369</td>\n",
       "      <td>-0.007738</td>\n",
       "      <td>-0.004756</td>\n",
       "      <td>-0.019636</td>\n",
       "      <td>0.003290</td>\n",
       "      <td>-0.003941</td>\n",
       "      <td>0.003311</td>\n",
       "      <td>-0.004436</td>\n",
       "      <td>0.002664</td>\n",
       "      <td>-0.014685</td>\n",
       "      <td>0.002448</td>\n",
       "      <td>0.013710</td>\n",
       "      <td>0.010905</td>\n",
       "    </tr>\n",
       "    <tr>\n",
       "      <th>6</th>\n",
       "      <td>0.013174</td>\n",
       "      <td>-0.019992</td>\n",
       "      <td>0.014042</td>\n",
       "      <td>-0.011067</td>\n",
       "      <td>0.026661</td>\n",
       "      <td>0.004368</td>\n",
       "      <td>1.000000</td>\n",
       "      <td>-0.010652</td>\n",
       "      <td>-0.005966</td>\n",
       "      <td>-0.005342</td>\n",
       "      <td>0.007246</td>\n",
       "      <td>0.000845</td>\n",
       "      <td>-0.004389</td>\n",
       "      <td>0.007579</td>\n",
       "      <td>0.001783</td>\n",
       "      <td>0.009491</td>\n",
       "      <td>-0.004700</td>\n",
       "      <td>0.982998</td>\n",
       "      <td>-0.347486</td>\n",
       "      <td>0.856666</td>\n",
       "    </tr>\n",
       "    <tr>\n",
       "      <th>7</th>\n",
       "      <td>0.002328</td>\n",
       "      <td>0.000289</td>\n",
       "      <td>-0.002030</td>\n",
       "      <td>0.013214</td>\n",
       "      <td>-0.001580</td>\n",
       "      <td>0.003369</td>\n",
       "      <td>-0.010652</td>\n",
       "      <td>1.000000</td>\n",
       "      <td>0.012702</td>\n",
       "      <td>0.002426</td>\n",
       "      <td>0.000023</td>\n",
       "      <td>0.007006</td>\n",
       "      <td>-0.002880</td>\n",
       "      <td>-0.008647</td>\n",
       "      <td>-0.003961</td>\n",
       "      <td>-0.008653</td>\n",
       "      <td>0.017680</td>\n",
       "      <td>-0.015461</td>\n",
       "      <td>0.012805</td>\n",
       "      <td>-0.002961</td>\n",
       "    </tr>\n",
       "    <tr>\n",
       "      <th>8</th>\n",
       "      <td>-0.009664</td>\n",
       "      <td>0.002729</td>\n",
       "      <td>-0.003880</td>\n",
       "      <td>0.008460</td>\n",
       "      <td>0.008988</td>\n",
       "      <td>-0.007738</td>\n",
       "      <td>-0.005966</td>\n",
       "      <td>0.012702</td>\n",
       "      <td>1.000000</td>\n",
       "      <td>-0.006312</td>\n",
       "      <td>0.011029</td>\n",
       "      <td>-0.005660</td>\n",
       "      <td>-0.011759</td>\n",
       "      <td>-0.002950</td>\n",
       "      <td>0.015093</td>\n",
       "      <td>0.003546</td>\n",
       "      <td>0.006177</td>\n",
       "      <td>0.001536</td>\n",
       "      <td>-0.021838</td>\n",
       "      <td>0.001995</td>\n",
       "    </tr>\n",
       "    <tr>\n",
       "      <th>9</th>\n",
       "      <td>-0.003297</td>\n",
       "      <td>0.013917</td>\n",
       "      <td>0.017299</td>\n",
       "      <td>0.005800</td>\n",
       "      <td>0.011668</td>\n",
       "      <td>-0.004756</td>\n",
       "      <td>-0.005342</td>\n",
       "      <td>0.002426</td>\n",
       "      <td>-0.006312</td>\n",
       "      <td>1.000000</td>\n",
       "      <td>-0.008303</td>\n",
       "      <td>-0.016307</td>\n",
       "      <td>0.011276</td>\n",
       "      <td>-0.004760</td>\n",
       "      <td>0.002220</td>\n",
       "      <td>0.002326</td>\n",
       "      <td>0.004985</td>\n",
       "      <td>-0.004704</td>\n",
       "      <td>-0.000417</td>\n",
       "      <td>-0.000718</td>\n",
       "    </tr>\n",
       "    <tr>\n",
       "      <th>10</th>\n",
       "      <td>0.000300</td>\n",
       "      <td>-0.020113</td>\n",
       "      <td>0.006898</td>\n",
       "      <td>-0.005629</td>\n",
       "      <td>-0.011103</td>\n",
       "      <td>-0.019636</td>\n",
       "      <td>0.007246</td>\n",
       "      <td>0.000023</td>\n",
       "      <td>0.011029</td>\n",
       "      <td>-0.008303</td>\n",
       "      <td>1.000000</td>\n",
       "      <td>0.005821</td>\n",
       "      <td>-0.029533</td>\n",
       "      <td>-0.015075</td>\n",
       "      <td>-0.004416</td>\n",
       "      <td>0.010423</td>\n",
       "      <td>0.011535</td>\n",
       "      <td>0.000365</td>\n",
       "      <td>-0.017060</td>\n",
       "      <td>0.003457</td>\n",
       "    </tr>\n",
       "    <tr>\n",
       "      <th>11</th>\n",
       "      <td>-0.009602</td>\n",
       "      <td>-0.022240</td>\n",
       "      <td>0.010643</td>\n",
       "      <td>-0.007887</td>\n",
       "      <td>-0.023675</td>\n",
       "      <td>0.003290</td>\n",
       "      <td>0.000845</td>\n",
       "      <td>0.007006</td>\n",
       "      <td>-0.005660</td>\n",
       "      <td>-0.016307</td>\n",
       "      <td>0.005821</td>\n",
       "      <td>1.000000</td>\n",
       "      <td>-0.012849</td>\n",
       "      <td>-0.009807</td>\n",
       "      <td>0.005071</td>\n",
       "      <td>0.013388</td>\n",
       "      <td>-0.005592</td>\n",
       "      <td>-0.003833</td>\n",
       "      <td>-0.002103</td>\n",
       "      <td>0.000032</td>\n",
       "    </tr>\n",
       "    <tr>\n",
       "      <th>12</th>\n",
       "      <td>-0.010168</td>\n",
       "      <td>-0.004664</td>\n",
       "      <td>0.010514</td>\n",
       "      <td>0.016986</td>\n",
       "      <td>-0.012797</td>\n",
       "      <td>-0.003941</td>\n",
       "      <td>-0.004389</td>\n",
       "      <td>-0.002880</td>\n",
       "      <td>-0.011759</td>\n",
       "      <td>0.011276</td>\n",
       "      <td>-0.029533</td>\n",
       "      <td>-0.012849</td>\n",
       "      <td>1.000000</td>\n",
       "      <td>-0.027498</td>\n",
       "      <td>0.014411</td>\n",
       "      <td>0.001172</td>\n",
       "      <td>0.024688</td>\n",
       "      <td>-0.010586</td>\n",
       "      <td>-0.001099</td>\n",
       "      <td>-0.003210</td>\n",
       "    </tr>\n",
       "    <tr>\n",
       "      <th>13</th>\n",
       "      <td>0.001533</td>\n",
       "      <td>0.008317</td>\n",
       "      <td>0.015923</td>\n",
       "      <td>0.005981</td>\n",
       "      <td>-0.002553</td>\n",
       "      <td>0.003311</td>\n",
       "      <td>0.007579</td>\n",
       "      <td>-0.008647</td>\n",
       "      <td>-0.002950</td>\n",
       "      <td>-0.004760</td>\n",
       "      <td>-0.015075</td>\n",
       "      <td>-0.009807</td>\n",
       "      <td>-0.027498</td>\n",
       "      <td>1.000000</td>\n",
       "      <td>0.016935</td>\n",
       "      <td>-0.003954</td>\n",
       "      <td>0.003658</td>\n",
       "      <td>0.005070</td>\n",
       "      <td>-0.010751</td>\n",
       "      <td>-0.002636</td>\n",
       "    </tr>\n",
       "    <tr>\n",
       "      <th>14</th>\n",
       "      <td>0.004151</td>\n",
       "      <td>0.002077</td>\n",
       "      <td>0.019244</td>\n",
       "      <td>0.012998</td>\n",
       "      <td>0.000060</td>\n",
       "      <td>-0.004436</td>\n",
       "      <td>0.001783</td>\n",
       "      <td>-0.003961</td>\n",
       "      <td>0.015093</td>\n",
       "      <td>0.002220</td>\n",
       "      <td>-0.004416</td>\n",
       "      <td>0.005071</td>\n",
       "      <td>0.014411</td>\n",
       "      <td>0.016935</td>\n",
       "      <td>1.000000</td>\n",
       "      <td>-0.010415</td>\n",
       "      <td>-0.004278</td>\n",
       "      <td>0.008988</td>\n",
       "      <td>0.003079</td>\n",
       "      <td>0.018878</td>\n",
       "    </tr>\n",
       "    <tr>\n",
       "      <th>15</th>\n",
       "      <td>-0.008050</td>\n",
       "      <td>0.014342</td>\n",
       "      <td>0.021976</td>\n",
       "      <td>-0.006076</td>\n",
       "      <td>-0.004687</td>\n",
       "      <td>0.002664</td>\n",
       "      <td>0.009491</td>\n",
       "      <td>-0.008653</td>\n",
       "      <td>0.003546</td>\n",
       "      <td>0.002326</td>\n",
       "      <td>0.010423</td>\n",
       "      <td>0.013388</td>\n",
       "      <td>0.001172</td>\n",
       "      <td>-0.003954</td>\n",
       "      <td>-0.010415</td>\n",
       "      <td>1.000000</td>\n",
       "      <td>-0.024202</td>\n",
       "      <td>0.015693</td>\n",
       "      <td>-0.013975</td>\n",
       "      <td>-0.002603</td>\n",
       "    </tr>\n",
       "    <tr>\n",
       "      <th>16</th>\n",
       "      <td>-0.002072</td>\n",
       "      <td>0.007378</td>\n",
       "      <td>-0.013687</td>\n",
       "      <td>-0.004907</td>\n",
       "      <td>0.004140</td>\n",
       "      <td>-0.014685</td>\n",
       "      <td>-0.004700</td>\n",
       "      <td>0.017680</td>\n",
       "      <td>0.006177</td>\n",
       "      <td>0.004985</td>\n",
       "      <td>0.011535</td>\n",
       "      <td>-0.005592</td>\n",
       "      <td>0.024688</td>\n",
       "      <td>0.003658</td>\n",
       "      <td>-0.004278</td>\n",
       "      <td>-0.024202</td>\n",
       "      <td>1.000000</td>\n",
       "      <td>-0.002291</td>\n",
       "      <td>0.013228</td>\n",
       "      <td>-0.009170</td>\n",
       "    </tr>\n",
       "    <tr>\n",
       "      <th>17</th>\n",
       "      <td>0.013068</td>\n",
       "      <td>-0.020729</td>\n",
       "      <td>0.009114</td>\n",
       "      <td>-0.009922</td>\n",
       "      <td>0.024217</td>\n",
       "      <td>0.002448</td>\n",
       "      <td>0.982998</td>\n",
       "      <td>-0.015461</td>\n",
       "      <td>0.001536</td>\n",
       "      <td>-0.004704</td>\n",
       "      <td>0.000365</td>\n",
       "      <td>-0.003833</td>\n",
       "      <td>-0.010586</td>\n",
       "      <td>0.005070</td>\n",
       "      <td>0.008988</td>\n",
       "      <td>0.015693</td>\n",
       "      <td>-0.002291</td>\n",
       "      <td>1.000000</td>\n",
       "      <td>-0.473444</td>\n",
       "      <td>0.766713</td>\n",
       "    </tr>\n",
       "    <tr>\n",
       "      <th>18</th>\n",
       "      <td>0.009450</td>\n",
       "      <td>-0.017334</td>\n",
       "      <td>0.011748</td>\n",
       "      <td>-0.012221</td>\n",
       "      <td>0.006550</td>\n",
       "      <td>0.013710</td>\n",
       "      <td>-0.347486</td>\n",
       "      <td>0.012805</td>\n",
       "      <td>-0.021838</td>\n",
       "      <td>-0.000417</td>\n",
       "      <td>-0.017060</td>\n",
       "      <td>-0.002103</td>\n",
       "      <td>-0.001099</td>\n",
       "      <td>-0.010751</td>\n",
       "      <td>0.003079</td>\n",
       "      <td>-0.013975</td>\n",
       "      <td>0.013228</td>\n",
       "      <td>-0.473444</td>\n",
       "      <td>1.000000</td>\n",
       "      <td>0.143961</td>\n",
       "    </tr>\n",
       "    <tr>\n",
       "      <th>19</th>\n",
       "      <td>0.004084</td>\n",
       "      <td>-0.026207</td>\n",
       "      <td>0.025864</td>\n",
       "      <td>-0.015097</td>\n",
       "      <td>0.034038</td>\n",
       "      <td>0.010905</td>\n",
       "      <td>0.856666</td>\n",
       "      <td>-0.002961</td>\n",
       "      <td>0.001995</td>\n",
       "      <td>-0.000718</td>\n",
       "      <td>0.003457</td>\n",
       "      <td>0.000032</td>\n",
       "      <td>-0.003210</td>\n",
       "      <td>-0.002636</td>\n",
       "      <td>0.018878</td>\n",
       "      <td>-0.002603</td>\n",
       "      <td>-0.009170</td>\n",
       "      <td>0.766713</td>\n",
       "      <td>0.143961</td>\n",
       "      <td>1.000000</td>\n",
       "    </tr>\n",
       "  </tbody>\n",
       "</table>\n",
       "</div>"
      ],
      "text/plain": [
       "          0         1         2         3         4         5         6   \\\n",
       "0   1.000000 -0.009541 -0.005888  0.003648 -0.008199 -0.016223  0.013174   \n",
       "1  -0.009541  1.000000 -0.004866 -0.011291 -0.010461 -0.001110 -0.019992   \n",
       "2  -0.005888 -0.004866  1.000000 -0.002878  0.016919 -0.005448  0.014042   \n",
       "3   0.003648 -0.011291 -0.002878  1.000000  0.012555  0.012466 -0.011067   \n",
       "4  -0.008199 -0.010461  0.016919  0.012555  1.000000  0.005958  0.026661   \n",
       "5  -0.016223 -0.001110 -0.005448  0.012466  0.005958  1.000000  0.004368   \n",
       "6   0.013174 -0.019992  0.014042 -0.011067  0.026661  0.004368  1.000000   \n",
       "7   0.002328  0.000289 -0.002030  0.013214 -0.001580  0.003369 -0.010652   \n",
       "8  -0.009664  0.002729 -0.003880  0.008460  0.008988 -0.007738 -0.005966   \n",
       "9  -0.003297  0.013917  0.017299  0.005800  0.011668 -0.004756 -0.005342   \n",
       "10  0.000300 -0.020113  0.006898 -0.005629 -0.011103 -0.019636  0.007246   \n",
       "11 -0.009602 -0.022240  0.010643 -0.007887 -0.023675  0.003290  0.000845   \n",
       "12 -0.010168 -0.004664  0.010514  0.016986 -0.012797 -0.003941 -0.004389   \n",
       "13  0.001533  0.008317  0.015923  0.005981 -0.002553  0.003311  0.007579   \n",
       "14  0.004151  0.002077  0.019244  0.012998  0.000060 -0.004436  0.001783   \n",
       "15 -0.008050  0.014342  0.021976 -0.006076 -0.004687  0.002664  0.009491   \n",
       "16 -0.002072  0.007378 -0.013687 -0.004907  0.004140 -0.014685 -0.004700   \n",
       "17  0.013068 -0.020729  0.009114 -0.009922  0.024217  0.002448  0.982998   \n",
       "18  0.009450 -0.017334  0.011748 -0.012221  0.006550  0.013710 -0.347486   \n",
       "19  0.004084 -0.026207  0.025864 -0.015097  0.034038  0.010905  0.856666   \n",
       "\n",
       "          7         8         9         10        11        12        13  \\\n",
       "0   0.002328 -0.009664 -0.003297  0.000300 -0.009602 -0.010168  0.001533   \n",
       "1   0.000289  0.002729  0.013917 -0.020113 -0.022240 -0.004664  0.008317   \n",
       "2  -0.002030 -0.003880  0.017299  0.006898  0.010643  0.010514  0.015923   \n",
       "3   0.013214  0.008460  0.005800 -0.005629 -0.007887  0.016986  0.005981   \n",
       "4  -0.001580  0.008988  0.011668 -0.011103 -0.023675 -0.012797 -0.002553   \n",
       "5   0.003369 -0.007738 -0.004756 -0.019636  0.003290 -0.003941  0.003311   \n",
       "6  -0.010652 -0.005966 -0.005342  0.007246  0.000845 -0.004389  0.007579   \n",
       "7   1.000000  0.012702  0.002426  0.000023  0.007006 -0.002880 -0.008647   \n",
       "8   0.012702  1.000000 -0.006312  0.011029 -0.005660 -0.011759 -0.002950   \n",
       "9   0.002426 -0.006312  1.000000 -0.008303 -0.016307  0.011276 -0.004760   \n",
       "10  0.000023  0.011029 -0.008303  1.000000  0.005821 -0.029533 -0.015075   \n",
       "11  0.007006 -0.005660 -0.016307  0.005821  1.000000 -0.012849 -0.009807   \n",
       "12 -0.002880 -0.011759  0.011276 -0.029533 -0.012849  1.000000 -0.027498   \n",
       "13 -0.008647 -0.002950 -0.004760 -0.015075 -0.009807 -0.027498  1.000000   \n",
       "14 -0.003961  0.015093  0.002220 -0.004416  0.005071  0.014411  0.016935   \n",
       "15 -0.008653  0.003546  0.002326  0.010423  0.013388  0.001172 -0.003954   \n",
       "16  0.017680  0.006177  0.004985  0.011535 -0.005592  0.024688  0.003658   \n",
       "17 -0.015461  0.001536 -0.004704  0.000365 -0.003833 -0.010586  0.005070   \n",
       "18  0.012805 -0.021838 -0.000417 -0.017060 -0.002103 -0.001099 -0.010751   \n",
       "19 -0.002961  0.001995 -0.000718  0.003457  0.000032 -0.003210 -0.002636   \n",
       "\n",
       "          14        15        16        17        18        19  \n",
       "0   0.004151 -0.008050 -0.002072  0.013068  0.009450  0.004084  \n",
       "1   0.002077  0.014342  0.007378 -0.020729 -0.017334 -0.026207  \n",
       "2   0.019244  0.021976 -0.013687  0.009114  0.011748  0.025864  \n",
       "3   0.012998 -0.006076 -0.004907 -0.009922 -0.012221 -0.015097  \n",
       "4   0.000060 -0.004687  0.004140  0.024217  0.006550  0.034038  \n",
       "5  -0.004436  0.002664 -0.014685  0.002448  0.013710  0.010905  \n",
       "6   0.001783  0.009491 -0.004700  0.982998 -0.347486  0.856666  \n",
       "7  -0.003961 -0.008653  0.017680 -0.015461  0.012805 -0.002961  \n",
       "8   0.015093  0.003546  0.006177  0.001536 -0.021838  0.001995  \n",
       "9   0.002220  0.002326  0.004985 -0.004704 -0.000417 -0.000718  \n",
       "10 -0.004416  0.010423  0.011535  0.000365 -0.017060  0.003457  \n",
       "11  0.005071  0.013388 -0.005592 -0.003833 -0.002103  0.000032  \n",
       "12  0.014411  0.001172  0.024688 -0.010586 -0.001099 -0.003210  \n",
       "13  0.016935 -0.003954  0.003658  0.005070 -0.010751 -0.002636  \n",
       "14  1.000000 -0.010415 -0.004278  0.008988  0.003079  0.018878  \n",
       "15 -0.010415  1.000000 -0.024202  0.015693 -0.013975 -0.002603  \n",
       "16 -0.004278 -0.024202  1.000000 -0.002291  0.013228 -0.009170  \n",
       "17  0.008988  0.015693 -0.002291  1.000000 -0.473444  0.766713  \n",
       "18  0.003079 -0.013975  0.013228 -0.473444  1.000000  0.143961  \n",
       "19  0.018878 -0.002603 -0.009170  0.766713  0.143961  1.000000  "
      ]
     },
     "execution_count": 12,
     "metadata": {
      "tags": []
     },
     "output_type": "execute_result"
    }
   ],
   "source": [
    "X.corr(method='spearman')"
   ]
  },
  {
   "cell_type": "code",
   "execution_count": 0,
   "metadata": {
    "colab": {},
    "colab_type": "code",
    "id": "qIOm_San0zhJ",
    "outputId": "5342fa04-6960-4944-cd3a-75f1c2fb3a0c"
   },
   "outputs": [
    {
     "data": {
      "text/plain": [
       "<matplotlib.axes._subplots.AxesSubplot at 0x196254dfd48>"
      ]
     },
     "execution_count": 13,
     "metadata": {
      "tags": []
     },
     "output_type": "execute_result"
    },
    {
     "data": {
      "image/png": "[encoded data removed]",
      "text/plain": [
       "<Figure size 432x288 with 2 Axes>"
      ]
     },
     "metadata": {
      "needs_background": "light",
      "tags": []
     },
     "output_type": "display_data"
    }
   ],
   "source": [
    "sns.heatmap(X.corr(method='spearman'))"
   ]
  },
  {
   "cell_type": "markdown",
   "metadata": {
    "colab_type": "text",
    "id": "Hn1fa82p0zhL"
   },
   "source": [
    "Find the feature most correlated to the target variable:"
   ]
  },
  {
   "cell_type": "code",
   "execution_count": 0,
   "metadata": {
    "colab": {},
    "colab_type": "code",
    "id": "6LZ8uHJ10zhL"
   },
   "outputs": [],
   "source": [
    "X[20]=y"
   ]
  },
  {
   "cell_type": "code",
   "execution_count": 0,
   "metadata": {
    "colab": {},
    "colab_type": "code",
    "id": "2XPRodlZ0zhO",
    "outputId": "afecef33-f202-420d-9a62-863252dc6919"
   },
   "outputs": [
    {
     "data": {
      "text/plain": [
       "<matplotlib.axes._subplots.AxesSubplot at 0x196262a8488>"
      ]
     },
     "execution_count": 19,
     "metadata": {
      "tags": []
     },
     "output_type": "execute_result"
    },
    {
     "data": {
      "image/png": "[encoded data removed]",
      "text/plain": [
       "<Figure size 432x288 with 2 Axes>"
      ]
     },
     "metadata": {
      "needs_background": "light",
      "tags": []
     },
     "output_type": "display_data"
    }
   ],
   "source": [
    "sns.heatmap(X.corr(method='spearman'))\n",
    "#The most correlated feature to the target value is feature number 18"
   ]
  },
  {
   "cell_type": "markdown",
   "metadata": {
    "colab_type": "text",
    "id": "0Dx2syLQ0zhP"
   },
   "source": [
    "Impute missing values. Use \n",
    "`from sklearn.preprocessing import Imputer`"
   ]
  },
  {
   "cell_type": "code",
   "execution_count": 0,
   "metadata": {
    "colab": {},
    "colab_type": "code",
    "id": "HN9-glr90zhQ"
   },
   "outputs": [],
   "source": [
    "from sklearn.impute import SimpleImputer\n"
   ]
  },
  {
   "cell_type": "code",
   "execution_count": 0,
   "metadata": {
    "colab": {},
    "colab_type": "code",
    "id": "SoHh1QJL0zhR",
    "outputId": "a0e55108-6794-433e-e636-2ffe21e17583"
   },
   "outputs": [
    {
     "name": "stdout",
     "output_type": "stream",
     "text": [
      "<class 'pandas.core.frame.DataFrame'>\n",
      "RangeIndex: 10000 entries, 0 to 9999\n",
      "Data columns (total 21 columns):\n",
      " #   Column  Non-Null Count  Dtype  \n",
      "---  ------  --------------  -----  \n",
      " 0   0       10000 non-null  float64\n",
      " 1   1       10000 non-null  float64\n",
      " 2   2       10000 non-null  float64\n",
      " 3   3       10000 non-null  float64\n",
      " 4   4       10000 non-null  float64\n",
      " 5   5       10000 non-null  float64\n",
      " 6   6       10000 non-null  float64\n",
      " 7   7       10000 non-null  float64\n",
      " 8   8       10000 non-null  float64\n",
      " 9   9       10000 non-null  float64\n",
      " 10  10      10000 non-null  float64\n",
      " 11  11      10000 non-null  float64\n",
      " 12  12      10000 non-null  float64\n",
      " 13  13      10000 non-null  float64\n",
      " 14  14      10000 non-null  float64\n",
      " 15  15      10000 non-null  float64\n",
      " 16  16      10000 non-null  float64\n",
      " 17  17      10000 non-null  float64\n",
      " 18  18      10000 non-null  float64\n",
      " 19  19      10000 non-null  float64\n",
      " 20  20      10000 non-null  float64\n",
      "dtypes: float64(21)\n",
      "memory usage: 1.6 MB\n"
     ]
    }
   ],
   "source": [
    "imp = SimpleImputer(missing_values=np.nan, strategy='mean')\n",
    "X2=pd.DataFrame(imp.fit_transform(X))\n",
    "X2.info()"
   ]
  },
  {
   "cell_type": "markdown",
   "metadata": {
    "colab_type": "text",
    "id": "3GJ8FxNX0zhT"
   },
   "source": [
    "Add polynomial features. Use `from sklearn.preprocessing import PolynomialFeatures`"
   ]
  },
  {
   "cell_type": "code",
   "execution_count": 0,
   "metadata": {
    "colab": {},
    "colab_type": "code",
    "id": "H6G83IJz0zhU"
   },
   "outputs": [],
   "source": [
    "from sklearn.preprocessing import PolynomialFeatures"
   ]
  },
  {
   "cell_type": "code",
   "execution_count": 0,
   "metadata": {
    "colab": {},
    "colab_type": "code",
    "id": "hIzX8CCh0zhV",
    "outputId": "f4c79c57-8351-4b63-efb3-5b0af0267503"
   },
   "outputs": [
    {
     "name": "stdout",
     "output_type": "stream",
     "text": [
      "<class 'pandas.core.frame.DataFrame'>\n",
      "RangeIndex: 10000 entries, 0 to 9999\n",
      "Data columns (total 20 columns):\n",
      " #   Column  Non-Null Count  Dtype  \n",
      "---  ------  --------------  -----  \n",
      " 0   0       10000 non-null  float64\n",
      " 1   1       10000 non-null  float64\n",
      " 2   2       10000 non-null  float64\n",
      " 3   3       10000 non-null  float64\n",
      " 4   4       10000 non-null  float64\n",
      " 5   5       10000 non-null  float64\n",
      " 6   6       10000 non-null  float64\n",
      " 7   7       10000 non-null  float64\n",
      " 8   8       10000 non-null  float64\n",
      " 9   9       10000 non-null  float64\n",
      " 10  10      10000 non-null  float64\n",
      " 11  11      10000 non-null  float64\n",
      " 12  12      10000 non-null  float64\n",
      " 13  13      10000 non-null  float64\n",
      " 14  14      10000 non-null  float64\n",
      " 15  15      10000 non-null  float64\n",
      " 16  16      10000 non-null  float64\n",
      " 17  17      10000 non-null  float64\n",
      " 18  18      10000 non-null  float64\n",
      " 19  19      10000 non-null  float64\n",
      "dtypes: float64(20)\n",
      "memory usage: 1.5 MB\n"
     ]
    }
   ],
   "source": [
    "X2=X2.drop(20, axis=1)\n",
    "X2.info()"
   ]
  },
  {
   "cell_type": "code",
   "execution_count": 0,
   "metadata": {
    "colab": {},
    "colab_type": "code",
    "id": "RxRX3xoo0zhX"
   },
   "outputs": [],
   "source": [
    "poly= PolynomialFeatures(degree=2, interaction_only=False)"
   ]
  },
  {
   "cell_type": "code",
   "execution_count": 0,
   "metadata": {
    "colab": {},
    "colab_type": "code",
    "id": "OrsP3a090zhZ"
   },
   "outputs": [],
   "source": [
    "feat=pd.DataFrame(poly.fit_transform(X2))"
   ]
  },
  {
   "cell_type": "code",
   "execution_count": 0,
   "metadata": {
    "colab": {},
    "colab_type": "code",
    "id": "NRF7OGJE0zhb"
   },
   "outputs": [],
   "source": [
    "Xtot=pd.concat([X2,feat],axis=1,ignore_index=True)"
   ]
  },
  {
   "cell_type": "code",
   "execution_count": 0,
   "metadata": {
    "colab": {},
    "colab_type": "code",
    "id": "P4F3xTvO0zhd",
    "outputId": "9e9822a4-47c3-4081-f6a3-9449f7e98dcd"
   },
   "outputs": [
    {
     "data": {
      "text/html": [
       "<div>\n",
       "<style scoped>\n",
       "    .dataframe tbody tr th:only-of-type {\n",
       "        vertical-align: middle;\n",
       "    }\n",
       "\n",
       "    .dataframe tbody tr th {\n",
       "        vertical-align: top;\n",
       "    }\n",
       "\n",
       "    .dataframe thead th {\n",
       "        text-align: right;\n",
       "    }\n",
       "</style>\n",
       "<table border=\"1\" class=\"dataframe\">\n",
       "  <thead>\n",
       "    <tr style=\"text-align: right;\">\n",
       "      <th></th>\n",
       "      <th>0</th>\n",
       "      <th>1</th>\n",
       "      <th>2</th>\n",
       "      <th>3</th>\n",
       "      <th>4</th>\n",
       "      <th>5</th>\n",
       "      <th>6</th>\n",
       "      <th>7</th>\n",
       "      <th>8</th>\n",
       "      <th>9</th>\n",
       "      <th>...</th>\n",
       "      <th>241</th>\n",
       "      <th>242</th>\n",
       "      <th>243</th>\n",
       "      <th>244</th>\n",
       "      <th>245</th>\n",
       "      <th>246</th>\n",
       "      <th>247</th>\n",
       "      <th>248</th>\n",
       "      <th>249</th>\n",
       "      <th>250</th>\n",
       "    </tr>\n",
       "  </thead>\n",
       "  <tbody>\n",
       "    <tr>\n",
       "      <th>0</th>\n",
       "      <td>0.830360</td>\n",
       "      <td>-0.330252</td>\n",
       "      <td>-0.230543</td>\n",
       "      <td>-0.461911</td>\n",
       "      <td>0.423043</td>\n",
       "      <td>1.198150</td>\n",
       "      <td>-0.598511</td>\n",
       "      <td>0.560084</td>\n",
       "      <td>1.172555</td>\n",
       "      <td>0.456654</td>\n",
       "      <td>...</td>\n",
       "      <td>0.094946</td>\n",
       "      <td>-0.001725</td>\n",
       "      <td>0.534260</td>\n",
       "      <td>-0.184663</td>\n",
       "      <td>0.000031</td>\n",
       "      <td>-0.009709</td>\n",
       "      <td>0.003356</td>\n",
       "      <td>3.006295</td>\n",
       "      <td>-1.039102</td>\n",
       "      <td>0.359157</td>\n",
       "    </tr>\n",
       "    <tr>\n",
       "      <th>1</th>\n",
       "      <td>-0.043999</td>\n",
       "      <td>0.220658</td>\n",
       "      <td>1.600519</td>\n",
       "      <td>0.116929</td>\n",
       "      <td>0.390064</td>\n",
       "      <td>-1.421096</td>\n",
       "      <td>-0.633978</td>\n",
       "      <td>-0.184462</td>\n",
       "      <td>1.015490</td>\n",
       "      <td>1.941363</td>\n",
       "      <td>...</td>\n",
       "      <td>0.000159</td>\n",
       "      <td>-0.013967</td>\n",
       "      <td>0.025296</td>\n",
       "      <td>-0.007142</td>\n",
       "      <td>1.226632</td>\n",
       "      <td>-2.221616</td>\n",
       "      <td>0.627267</td>\n",
       "      <td>4.023684</td>\n",
       "      <td>-1.136076</td>\n",
       "      <td>0.320768</td>\n",
       "    </tr>\n",
       "    <tr>\n",
       "      <th>2</th>\n",
       "      <td>0.626718</td>\n",
       "      <td>2.100425</td>\n",
       "      <td>-0.965798</td>\n",
       "      <td>-0.128874</td>\n",
       "      <td>0.479240</td>\n",
       "      <td>2.158692</td>\n",
       "      <td>-0.660023</td>\n",
       "      <td>0.109196</td>\n",
       "      <td>0.619129</td>\n",
       "      <td>-0.316668</td>\n",
       "      <td>...</td>\n",
       "      <td>0.000018</td>\n",
       "      <td>-0.004380</td>\n",
       "      <td>0.003965</td>\n",
       "      <td>-0.004438</td>\n",
       "      <td>1.081106</td>\n",
       "      <td>-0.978712</td>\n",
       "      <td>1.095270</td>\n",
       "      <td>0.886016</td>\n",
       "      <td>-0.991535</td>\n",
       "      <td>1.109619</td>\n",
       "    </tr>\n",
       "    <tr>\n",
       "      <th>3</th>\n",
       "      <td>0.618236</td>\n",
       "      <td>-2.050204</td>\n",
       "      <td>0.197231</td>\n",
       "      <td>-1.349391</td>\n",
       "      <td>0.787622</td>\n",
       "      <td>-2.372554</td>\n",
       "      <td>-0.001878</td>\n",
       "      <td>0.007566</td>\n",
       "      <td>1.386982</td>\n",
       "      <td>-0.872126</td>\n",
       "      <td>...</td>\n",
       "      <td>0.180714</td>\n",
       "      <td>0.288988</td>\n",
       "      <td>-0.124253</td>\n",
       "      <td>0.368855</td>\n",
       "      <td>0.462132</td>\n",
       "      <td>-0.198698</td>\n",
       "      <td>0.589852</td>\n",
       "      <td>0.085432</td>\n",
       "      <td>-0.253612</td>\n",
       "      <td>0.752869</td>\n",
       "    </tr>\n",
       "    <tr>\n",
       "      <th>4</th>\n",
       "      <td>1.432372</td>\n",
       "      <td>0.357851</td>\n",
       "      <td>0.439499</td>\n",
       "      <td>-0.748692</td>\n",
       "      <td>-0.941226</td>\n",
       "      <td>-0.395514</td>\n",
       "      <td>-0.256896</td>\n",
       "      <td>0.272549</td>\n",
       "      <td>-1.281665</td>\n",
       "      <td>1.235855</td>\n",
       "      <td>...</td>\n",
       "      <td>0.000018</td>\n",
       "      <td>-0.001703</td>\n",
       "      <td>-0.000125</td>\n",
       "      <td>-0.001735</td>\n",
       "      <td>0.163397</td>\n",
       "      <td>0.012009</td>\n",
       "      <td>0.166518</td>\n",
       "      <td>0.000883</td>\n",
       "      <td>0.012238</td>\n",
       "      <td>0.169699</td>\n",
       "    </tr>\n",
       "  </tbody>\n",
       "</table>\n",
       "<p>5 rows × 251 columns</p>\n",
       "</div>"
      ],
      "text/plain": [
       "        0         1         2         3         4         5         6    \\\n",
       "0  0.830360 -0.330252 -0.230543 -0.461911  0.423043  1.198150 -0.598511   \n",
       "1 -0.043999  0.220658  1.600519  0.116929  0.390064 -1.421096 -0.633978   \n",
       "2  0.626718  2.100425 -0.965798 -0.128874  0.479240  2.158692 -0.660023   \n",
       "3  0.618236 -2.050204  0.197231 -1.349391  0.787622 -2.372554 -0.001878   \n",
       "4  1.432372  0.357851  0.439499 -0.748692 -0.941226 -0.395514 -0.256896   \n",
       "\n",
       "        7         8         9    ...       241       242       243       244  \\\n",
       "0  0.560084  1.172555  0.456654  ...  0.094946 -0.001725  0.534260 -0.184663   \n",
       "1 -0.184462  1.015490  1.941363  ...  0.000159 -0.013967  0.025296 -0.007142   \n",
       "2  0.109196  0.619129 -0.316668  ...  0.000018 -0.004380  0.003965 -0.004438   \n",
       "3  0.007566  1.386982 -0.872126  ...  0.180714  0.288988 -0.124253  0.368855   \n",
       "4  0.272549 -1.281665  1.235855  ...  0.000018 -0.001703 -0.000125 -0.001735   \n",
       "\n",
       "        245       246       247       248       249       250  \n",
       "0  0.000031 -0.009709  0.003356  3.006295 -1.039102  0.359157  \n",
       "1  1.226632 -2.221616  0.627267  4.023684 -1.136076  0.320768  \n",
       "2  1.081106 -0.978712  1.095270  0.886016 -0.991535  1.109619  \n",
       "3  0.462132 -0.198698  0.589852  0.085432 -0.253612  0.752869  \n",
       "4  0.163397  0.012009  0.166518  0.000883  0.012238  0.169699  \n",
       "\n",
       "[5 rows x 251 columns]"
      ]
     },
     "execution_count": 32,
     "metadata": {
      "tags": []
     },
     "output_type": "execute_result"
    }
   ],
   "source": [
    "Xtot.head()"
   ]
  },
  {
   "cell_type": "markdown",
   "metadata": {
    "colab_type": "text",
    "id": "7EtON4xr0zhg"
   },
   "source": [
    "#### Linear Regression Classifier\n",
    "We'll first use a simple Linear Regression as a base classifier. Use L2 regularization.  \n",
    "Split data into train and test, and report below results on both the train set and the test set."
   ]
  },
  {
   "cell_type": "markdown",
   "metadata": {
    "colab_type": "text",
    "id": "X9KA53IV0zhj"
   },
   "source": [
    "Show the classification report."
   ]
  },
  {
   "cell_type": "code",
   "execution_count": 0,
   "metadata": {
    "colab": {},
    "colab_type": "code",
    "id": "4MXeTBzb0zhj"
   },
   "outputs": [],
   "source": [
    "from sklearn.model_selection import train_test_split"
   ]
  },
  {
   "cell_type": "code",
   "execution_count": 0,
   "metadata": {
    "colab": {},
    "colab_type": "code",
    "id": "tr9bXiHy0zho"
   },
   "outputs": [],
   "source": [
    "X_train, X_test, y_train, y_test = train_test_split(Xtot, y, test_size=0.3, random_state=101)"
   ]
  },
  {
   "cell_type": "code",
   "execution_count": 0,
   "metadata": {
    "colab": {},
    "colab_type": "code",
    "id": "b1qIuhAk0zhq"
   },
   "outputs": [],
   "source": [
    "from sklearn.linear_model import LogisticRegression"
   ]
  },
  {
   "cell_type": "code",
   "execution_count": 0,
   "metadata": {
    "colab": {},
    "colab_type": "code",
    "id": "ohYDpxbp0zhs",
    "outputId": "5863ca1c-7d4f-4720-c8e1-0d6cd4e3b4bd"
   },
   "outputs": [
    {
     "name": "stderr",
     "output_type": "stream",
     "text": [
      "C:\\Users\\Refael Kohen\\Miniconda3\\envs\\AppliedDS\\lib\\site-packages\\sklearn\\linear_model\\_logistic.py:764: ConvergenceWarning: lbfgs failed to converge (status=1):\n",
      "STOP: TOTAL NO. of ITERATIONS REACHED LIMIT.\n",
      "\n",
      "Increase the number of iterations (max_iter) or scale the data as shown in:\n",
      "    https://scikit-learn.org/stable/modules/preprocessing.html\n",
      "Please also refer to the documentation for alternative solver options:\n",
      "    https://scikit-learn.org/stable/modules/linear_model.html#logistic-regression\n",
      "  extra_warning_msg=_LOGISTIC_SOLVER_CONVERGENCE_MSG)\n"
     ]
    },
    {
     "data": {
      "text/plain": [
       "LogisticRegression()"
      ]
     },
     "execution_count": 36,
     "metadata": {
      "tags": []
     },
     "output_type": "execute_result"
    }
   ],
   "source": [
    "logmodel = LogisticRegression()\n",
    "logmodel.fit(X_train,y_train)"
   ]
  },
  {
   "cell_type": "code",
   "execution_count": 0,
   "metadata": {
    "colab": {},
    "colab_type": "code",
    "id": "igxVnrmk0zhu"
   },
   "outputs": [],
   "source": [
    "predictions = logmodel.predict(X_test)"
   ]
  },
  {
   "cell_type": "code",
   "execution_count": 0,
   "metadata": {
    "colab": {},
    "colab_type": "code",
    "id": "1qGLtGVN0zhw"
   },
   "outputs": [],
   "source": [
    "from sklearn.metrics import classification_report, confusion_matrix"
   ]
  },
  {
   "cell_type": "code",
   "execution_count": 0,
   "metadata": {
    "colab": {},
    "colab_type": "code",
    "id": "kRHvKfRg0zhz",
    "outputId": "3dd1b16d-5594-49cc-dfe2-e1ec309e6ee3"
   },
   "outputs": [
    {
     "name": "stdout",
     "output_type": "stream",
     "text": [
      "              precision    recall  f1-score   support\n",
      "\n",
      "           0       0.77      0.79      0.78      1469\n",
      "           1       0.80      0.77      0.78      1531\n",
      "\n",
      "    accuracy                           0.78      3000\n",
      "   macro avg       0.78      0.78      0.78      3000\n",
      "weighted avg       0.78      0.78      0.78      3000\n",
      "\n"
     ]
    }
   ],
   "source": [
    "print(classification_report(y_test,predictions))"
   ]
  },
  {
   "cell_type": "code",
   "execution_count": 0,
   "metadata": {
    "colab": {},
    "colab_type": "code",
    "id": "oMolkd970zh1",
    "outputId": "3575f0d1-f023-4ec4-e422-58700ad06894"
   },
   "outputs": [
    {
     "name": "stdout",
     "output_type": "stream",
     "text": [
      "[[0.38833333 0.10133333]\n",
      " [0.11733333 0.393     ]]\n"
     ]
    },
    {
     "data": {
      "text/plain": [
       "<matplotlib.axes._subplots.AxesSubplot at 0x19627e6cac8>"
      ]
     },
     "execution_count": 40,
     "metadata": {
      "tags": []
     },
     "output_type": "execute_result"
    },
    {
     "data": {
      "image/png": "[encoded data removed]",
      "text/plain": [
       "<Figure size 432x288 with 2 Axes>"
      ]
     },
     "metadata": {
      "needs_background": "light",
      "tags": []
     },
     "output_type": "display_data"
    }
   ],
   "source": [
    "print(confusion_matrix(y_test,predictions)/3000)\n",
    "sns.heatmap(confusion_matrix(y_test,predictions)/3000)"
   ]
  },
  {
   "cell_type": "code",
   "execution_count": 0,
   "metadata": {
    "colab": {},
    "colab_type": "code",
    "id": "UmvG8rvt0zh3"
   },
   "outputs": [],
   "source": [
    "#trainSET:"
   ]
  },
  {
   "cell_type": "code",
   "execution_count": 0,
   "metadata": {
    "colab": {},
    "colab_type": "code",
    "id": "MZlMOnBY0zh4"
   },
   "outputs": [],
   "source": [
    "predictions_Xtrain = logmodel.predict(X_train)"
   ]
  },
  {
   "cell_type": "code",
   "execution_count": 0,
   "metadata": {
    "colab": {},
    "colab_type": "code",
    "id": "6kt3-3_i0zh6",
    "outputId": "cbda8501-1b86-4252-e737-bc94da41954c"
   },
   "outputs": [
    {
     "name": "stdout",
     "output_type": "stream",
     "text": [
      "              precision    recall  f1-score   support\n",
      "\n",
      "           0       0.80      0.80      0.80      3523\n",
      "           1       0.80      0.80      0.80      3477\n",
      "\n",
      "    accuracy                           0.80      7000\n",
      "   macro avg       0.80      0.80      0.80      7000\n",
      "weighted avg       0.80      0.80      0.80      7000\n",
      "\n"
     ]
    }
   ],
   "source": [
    "print(classification_report(y_train,predictions_Xtrain))"
   ]
  },
  {
   "cell_type": "code",
   "execution_count": 0,
   "metadata": {
    "colab": {},
    "colab_type": "code",
    "id": "tUDDRlhB0zh8",
    "outputId": "184142f5-c628-4f7a-9ca1-b23b09b0f199"
   },
   "outputs": [
    {
     "name": "stdout",
     "output_type": "stream",
     "text": [
      "[[0.40414286 0.09914286]\n",
      " [0.10142857 0.39528571]]\n"
     ]
    },
    {
     "data": {
      "text/plain": [
       "<matplotlib.axes._subplots.AxesSubplot at 0x1962784c7c8>"
      ]
     },
     "execution_count": 43,
     "metadata": {
      "tags": []
     },
     "output_type": "execute_result"
    },
    {
     "data": {
      "image/png": "[encoded data removed]",
      "text/plain": [
       "<Figure size 432x288 with 2 Axes>"
      ]
     },
     "metadata": {
      "needs_background": "light",
      "tags": []
     },
     "output_type": "display_data"
    }
   ],
   "source": [
    "print(confusion_matrix(y_train,predictions_Xtrain)/7000)\n",
    "sns.heatmap(confusion_matrix(y_train,predictions_Xtrain)/7000)"
   ]
  },
  {
   "cell_type": "markdown",
   "metadata": {
    "colab_type": "text",
    "id": "8OZ-soV_0zh-"
   },
   "source": [
    "Show the confusion matrix as a heatmap."
   ]
  },
  {
   "cell_type": "code",
   "execution_count": 0,
   "metadata": {
    "colab": {},
    "colab_type": "code",
    "id": "OCIugCkk0zh_"
   },
   "outputs": [],
   "source": [
    "#did it already"
   ]
  },
  {
   "cell_type": "markdown",
   "metadata": {
    "colab_type": "text",
    "id": "u-5PMKMH0ziA"
   },
   "source": [
    "How do you interpret the results?"
   ]
  },
  {
   "cell_type": "code",
   "execution_count": 0,
   "metadata": {
    "colab": {},
    "colab_type": "code",
    "id": "6133tlCd0ziA"
   },
   "outputs": [],
   "source": [
    "#it seems that there is no overfitting"
   ]
  },
  {
   "cell_type": "markdown",
   "metadata": {
    "colab_type": "text",
    "id": "6AJ8dQil0ziC"
   },
   "source": [
    "What are the important features according to the classifier?  \n",
    "Are these indeed the important features set when creating the data with `make_classification`?"
   ]
  },
  {
   "cell_type": "code",
   "execution_count": 0,
   "metadata": {
    "colab": {},
    "colab_type": "code",
    "id": "rgweUiXR0ziC",
    "outputId": "006a4eb1-e7d4-4899-a9bc-0273abc1588f"
   },
   "outputs": [
    {
     "name": "stdout",
     "output_type": "stream",
     "text": [
      "157\n"
     ]
    }
   ],
   "source": [
    "a=logmodel.coef_\n",
    "print (np.argmax(a))"
   ]
  },
  {
   "cell_type": "markdown",
   "metadata": {
    "colab_type": "text",
    "id": "DhGbiFYp0ziE"
   },
   "source": [
    "#### SVM classifier\n",
    "Next, we'll Perform a hyperparameter optimization for a SVM classifier. What hyperparameters do you choose to change? "
   ]
  },
  {
   "cell_type": "markdown",
   "metadata": {
    "colab_type": "text",
    "id": "NYzJ8EIf0ziF"
   },
   "source": [
    "Check the effect of scaling input variables. You might want to use one of these (all under `sklearn.preprocessing`):\n",
    "1. StandardScaler\n",
    "1. MinMaxScaler\n",
    "1. Normalizer\n",
    "1. Binarizer"
   ]
  },
  {
   "cell_type": "code",
   "execution_count": 0,
   "metadata": {
    "colab": {},
    "colab_type": "code",
    "id": "3dBPmLi00ziG",
    "outputId": "238ad65c-cf03-421d-f367-751be9d54073"
   },
   "outputs": [
    {
     "name": "stdout",
     "output_type": "stream",
     "text": [
      "[[1213  256]\n",
      " [ 364 1167]]\n",
      "              precision    recall  f1-score   support\n",
      "\n",
      "           0       0.77      0.83      0.80      1469\n",
      "           1       0.82      0.76      0.79      1531\n",
      "\n",
      "    accuracy                           0.79      3000\n",
      "   macro avg       0.79      0.79      0.79      3000\n",
      "weighted avg       0.80      0.79      0.79      3000\n",
      "\n",
      "[[1234  235]\n",
      " [ 353 1178]]\n",
      "              precision    recall  f1-score   support\n",
      "\n",
      "           0       0.78      0.84      0.81      1469\n",
      "           1       0.83      0.77      0.80      1531\n",
      "\n",
      "    accuracy                           0.80      3000\n",
      "   macro avg       0.81      0.80      0.80      3000\n",
      "weighted avg       0.81      0.80      0.80      3000\n",
      "\n",
      "[[1188  281]\n",
      " [ 359 1172]]\n",
      "              precision    recall  f1-score   support\n",
      "\n",
      "           0       0.77      0.81      0.79      1469\n",
      "           1       0.81      0.77      0.79      1531\n",
      "\n",
      "    accuracy                           0.79      3000\n",
      "   macro avg       0.79      0.79      0.79      3000\n",
      "weighted avg       0.79      0.79      0.79      3000\n",
      "\n",
      "[[1258  211]\n",
      " [ 643  888]]\n",
      "              precision    recall  f1-score   support\n",
      "\n",
      "           0       0.66      0.86      0.75      1469\n",
      "           1       0.81      0.58      0.68      1531\n",
      "\n",
      "    accuracy                           0.72      3000\n",
      "   macro avg       0.73      0.72      0.71      3000\n",
      "weighted avg       0.74      0.72      0.71      3000\n",
      "\n"
     ]
    }
   ],
   "source": [
    "from sklearn.preprocessing import StandardScaler\n",
    "from sklearn.preprocessing import MinMaxScaler\n",
    "from sklearn.preprocessing import Normalizer\n",
    "from sklearn.preprocessing import Binarizer\n",
    "\n",
    "sc = StandardScaler()\n",
    "mms= MinMaxScaler()\n",
    "Nm=Normalizer()\n",
    "Br=Binarizer()\n",
    "\n",
    "X_train1 = sc.fit_transform(X_train)\n",
    "X_test1 = sc.transform (X_test)\n",
    "\n",
    "X_train2 = mms.fit_transform(X_train)\n",
    "X_test2 = mms.transform (X_test)\n",
    "\n",
    "X_train3 = Nm.fit_transform(X_train)\n",
    "X_test3 = Nm.transform (X_test)\n",
    "\n",
    "X_train4 = Br.fit_transform(X_train)\n",
    "X_test4 = Br.transform (X_test)\n",
    "\n",
    "from sklearn.svm import SVC\n",
    "svc_model1 = SVC(probability=True)\n",
    "svc_model2 = SVC(probability=True)\n",
    "svc_model3 = SVC(probability=True)\n",
    "svc_model4 = SVC(probability=True)\n",
    "\n",
    "svc_model1.fit(X_train1,y_train)\n",
    "svc_model2.fit(X_train2,y_train)\n",
    "svc_model3.fit(X_train3,y_train)\n",
    "svc_model4.fit(X_train4,y_train)\n",
    "\n",
    "predictions1 = svc_model1.predict(X_test1)\n",
    "predictions2 = svc_model2.predict(X_test2)\n",
    "predictions3 = svc_model3.predict(X_test3)\n",
    "predictions4 = svc_model4.predict(X_test4)\n",
    "\n",
    "print(confusion_matrix(y_test,predictions1))\n",
    "print(classification_report(y_test,predictions1))\n",
    "\n",
    "print(confusion_matrix(y_test,predictions2))\n",
    "print(classification_report(y_test,predictions2))\n",
    "\n",
    "print(confusion_matrix(y_test,predictions3))\n",
    "print(classification_report(y_test,predictions3))\n",
    "\n",
    "print(confusion_matrix(y_test,predictions4))\n",
    "print(classification_report(y_test,predictions4))\n"
   ]
  },
  {
   "cell_type": "code",
   "execution_count": 0,
   "metadata": {
    "colab": {},
    "colab_type": "code",
    "id": "fRtO7KsT0ziI"
   },
   "outputs": [],
   "source": [
    "#the best scaling was the StandardScaler"
   ]
  },
  {
   "cell_type": "markdown",
   "metadata": {
    "colab_type": "text",
    "id": "96UVYTR30ziJ"
   },
   "source": [
    "Plot the ROC curves of the best SVM model and the Logistic Regression model.  \n",
    "Compute the AUC of both models.  \n",
    "Discuss the results."
   ]
  },
  {
   "cell_type": "code",
   "execution_count": 0,
   "metadata": {
    "colab": {},
    "colab_type": "code",
    "id": "1ExvvmXE0ziK",
    "outputId": "bbef7274-1057-402d-af2d-be36211a8023"
   },
   "outputs": [
    {
     "data": {
      "image/png": "[encoded data removed]",
      "text/plain": [
       "<Figure size 432x288 with 1 Axes>"
      ]
     },
     "metadata": {
      "needs_background": "light",
      "tags": []
     },
     "output_type": "display_data"
    },
    {
     "data": {
      "text/plain": [
       "<Figure size 432x288 with 0 Axes>"
      ]
     },
     "metadata": {
      "tags": []
     },
     "output_type": "display_data"
    },
    {
     "data": {
      "image/png": "[encoded data removed]",
      "text/plain": [
       "<Figure size 432x288 with 1 Axes>"
      ]
     },
     "metadata": {
      "needs_background": "light",
      "tags": []
     },
     "output_type": "display_data"
    }
   ],
   "source": [
    "from sklearn.metrics import roc_curve, plot_roc_curve\n",
    "import matplotlib.pyplot as plt\n",
    "\n",
    "plot_roc_curve(svc_model1, X_test1, y_test)\n",
    "plt.show()\n",
    "\n",
    "plt.figure()\n",
    "plot_roc_curve(logmodel, X_test, y_test)\n",
    "plt.show()\n"
   ]
  },
  {
   "cell_type": "markdown",
   "metadata": {
    "colab_type": "text",
    "id": "2qEZoQ6s0ziM"
   },
   "source": [
    "Plot the Precision-Recall curves of the best SVM model and the Logistic Regression model. Discuss the results."
   ]
  },
  {
   "cell_type": "code",
   "execution_count": 0,
   "metadata": {
    "colab": {},
    "colab_type": "code",
    "id": "mW3mURUx0ziM",
    "outputId": "4360f2d2-eca0-419e-ad70-9620317f5cd5"
   },
   "outputs": [
    {
     "data": {
      "image/png": "[encoded data removed]",
      "text/plain": [
       "<Figure size 432x288 with 1 Axes>"
      ]
     },
     "metadata": {
      "needs_background": "light",
      "tags": []
     },
     "output_type": "display_data"
    },
    {
     "data": {
      "image/png": "[encoded data removed]",
      "text/plain": [
       "<Figure size 432x288 with 1 Axes>"
      ]
     },
     "metadata": {
      "needs_background": "light",
      "tags": []
     },
     "output_type": "display_data"
    }
   ],
   "source": [
    "from sklearn.metrics import plot_precision_recall_curve\n",
    "plot_precision_recall_curve(svc_model1, X_test1, y_test)\n",
    "plt.show()\n",
    "\n",
    "#now for the Logistic regresion:\n",
    "plot_roc_curve(logmodel, X_test, y_test)\n",
    "plt.show()"
   ]
  },
  {
   "cell_type": "markdown",
   "metadata": {
    "colab_type": "text",
    "id": "SOZvNtQ10ziQ"
   },
   "source": [
    "Good job!"
   ]
  }
 ],
 "metadata": {
  "colab": {
   "name": "classification_simulated_dataset-solution.ipynb",
   "provenance": []
  },
  "kernelspec": {
   "display_name": "Python 3 (ipykernel)",
   "language": "python",
   "name": "python3"
  },
  "language_info": {
   "codemirror_mode": {
    "name": "ipython",
    "version": 3
   },
   "file_extension": ".py",
   "mimetype": "text/x-python",
   "name": "python",
   "nbconvert_exporter": "python",
   "pygments_lexer": "ipython3",
   "version": "3.9.13"
  }
 },
 "nbformat": 4,
 "nbformat_minor": 1
}
